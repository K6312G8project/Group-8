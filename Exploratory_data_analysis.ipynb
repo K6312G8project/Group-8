{
 "cells": [
  {
   "cell_type": "code",
   "execution_count": 3,
   "id": "4ad8be34",
   "metadata": {},
   "outputs": [],
   "source": [
    "# Pandas and numpy for data manipulation\n",
    "import pandas as pd\n",
    "import numpy as np\n",
    "np.random.seed(123)\n",
    "\n",
    "# Matplotlib and seaborn for plotting\n",
    "import matplotlib.pyplot as plt\n",
    "%matplotlib inline\n",
    "import matplotlib\n",
    "#matplotlib.rcParams['font.size'] = 8\n",
    "#matplotlib.rcParams['figure.figsize'] = (5, 5)\n",
    "\n",
    "import seaborn as sns #plot figures\n",
    "from IPython.core.pylabtools import figsize\n",
    "\n",
    "# Scipy helper functions\n",
    "import scipy #get statistics percentile\n",
    "from scipy.stats import percentileofscore\n",
    "from scipy import stats"
   ]
  },
  {
   "cell_type": "code",
   "execution_count": 4,
   "id": "8ce52830",
   "metadata": {},
   "outputs": [],
   "source": [
    "tweets_total = pd.read_csv('tweetstotal.csv',encoding= 'utf-8')"
   ]
  },
  {
   "cell_type": "code",
   "execution_count": 5,
   "id": "d5ec8851",
   "metadata": {},
   "outputs": [
    {
     "name": "stderr",
     "output_type": "stream",
     "text": [
      "/var/folders/qc/s8jdkyqj7zd15w9r6vrffpsm0000gn/T/ipykernel_1581/795672648.py:1: FutureWarning: The frame.append method is deprecated and will be removed from pandas in a future version. Use pandas.concat instead.\n",
      "  tweets_total.head(5).append(tweets_total.tail(5))\n"
     ]
    },
    {
     "data": {
      "text/html": [
       "<div>\n",
       "<style scoped>\n",
       "    .dataframe tbody tr th:only-of-type {\n",
       "        vertical-align: middle;\n",
       "    }\n",
       "\n",
       "    .dataframe tbody tr th {\n",
       "        vertical-align: top;\n",
       "    }\n",
       "\n",
       "    .dataframe thead th {\n",
       "        text-align: right;\n",
       "    }\n",
       "</style>\n",
       "<table border=\"1\" class=\"dataframe\">\n",
       "  <thead>\n",
       "    <tr style=\"text-align: right;\">\n",
       "      <th></th>\n",
       "      <th>Unnamed: 0</th>\n",
       "      <th>Time</th>\n",
       "      <th>Author ID</th>\n",
       "      <th>Tweet</th>\n",
       "    </tr>\n",
       "  </thead>\n",
       "  <tbody>\n",
       "    <tr>\n",
       "      <th>0</th>\n",
       "      <td>0</td>\n",
       "      <td>2017-12-12 13:10:53+00:00</td>\n",
       "      <td>386815282</td>\n",
       "      <td>RT @goproudout: In Singapore, it’s time to cha...</td>\n",
       "    </tr>\n",
       "    <tr>\n",
       "      <th>1</th>\n",
       "      <td>1</td>\n",
       "      <td>2017-12-12 13:00:32+00:00</td>\n",
       "      <td>3128624681</td>\n",
       "      <td>In Singapore, it’s time to change closed minds...</td>\n",
       "    </tr>\n",
       "    <tr>\n",
       "      <th>2</th>\n",
       "      <td>2</td>\n",
       "      <td>2017-11-29 16:48:02+00:00</td>\n",
       "      <td>820846679398051840</td>\n",
       "      <td>Singapore’s gay circle has way too many #metoo...</td>\n",
       "    </tr>\n",
       "    <tr>\n",
       "      <th>3</th>\n",
       "      <td>3</td>\n",
       "      <td>2017-11-04 13:32:18+00:00</td>\n",
       "      <td>905756070202576896</td>\n",
       "      <td>disclaimer i know nothing abt johnten but. the...</td>\n",
       "    </tr>\n",
       "    <tr>\n",
       "      <th>4</th>\n",
       "      <td>4</td>\n",
       "      <td>2017-10-08 08:46:03+00:00</td>\n",
       "      <td>908961631991767040</td>\n",
       "      <td>https://t.co/NIrmGVj5hB</td>\n",
       "    </tr>\n",
       "    <tr>\n",
       "      <th>10902</th>\n",
       "      <td>1567</td>\n",
       "      <td>2022-02-28 11:57:09+00:00</td>\n",
       "      <td>149585330</td>\n",
       "      <td>Court of Appeal rules Section 377A stays but c...</td>\n",
       "    </tr>\n",
       "    <tr>\n",
       "      <th>10903</th>\n",
       "      <td>1568</td>\n",
       "      <td>2022-02-28 11:48:30+00:00</td>\n",
       "      <td>3158178364</td>\n",
       "      <td>RT @HumanDignityT: BREAKING: Partial victory a...</td>\n",
       "    </tr>\n",
       "    <tr>\n",
       "      <th>10904</th>\n",
       "      <td>1569</td>\n",
       "      <td>2022-02-28 11:32:08+00:00</td>\n",
       "      <td>23029296</td>\n",
       "      <td>RT @afa_singapore: AfA Singapore is deeply dis...</td>\n",
       "    </tr>\n",
       "    <tr>\n",
       "      <th>10905</th>\n",
       "      <td>1570</td>\n",
       "      <td>2022-02-28 11:31:03+00:00</td>\n",
       "      <td>881337963505868800</td>\n",
       "      <td>RT @kixes: The conclusion from #Singapore’s Co...</td>\n",
       "    </tr>\n",
       "    <tr>\n",
       "      <th>10906</th>\n",
       "      <td>1571</td>\n",
       "      <td>2022-02-28 11:27:03+00:00</td>\n",
       "      <td>16922687</td>\n",
       "      <td>RT @raynerkjtan: Today, the Singapore Court of...</td>\n",
       "    </tr>\n",
       "  </tbody>\n",
       "</table>\n",
       "</div>"
      ],
      "text/plain": [
       "       Unnamed: 0                       Time           Author ID  \\\n",
       "0               0  2017-12-12 13:10:53+00:00           386815282   \n",
       "1               1  2017-12-12 13:00:32+00:00          3128624681   \n",
       "2               2  2017-11-29 16:48:02+00:00  820846679398051840   \n",
       "3               3  2017-11-04 13:32:18+00:00  905756070202576896   \n",
       "4               4  2017-10-08 08:46:03+00:00  908961631991767040   \n",
       "10902        1567  2022-02-28 11:57:09+00:00           149585330   \n",
       "10903        1568  2022-02-28 11:48:30+00:00          3158178364   \n",
       "10904        1569  2022-02-28 11:32:08+00:00            23029296   \n",
       "10905        1570  2022-02-28 11:31:03+00:00  881337963505868800   \n",
       "10906        1571  2022-02-28 11:27:03+00:00            16922687   \n",
       "\n",
       "                                                   Tweet  \n",
       "0      RT @goproudout: In Singapore, it’s time to cha...  \n",
       "1      In Singapore, it’s time to change closed minds...  \n",
       "2      Singapore’s gay circle has way too many #metoo...  \n",
       "3      disclaimer i know nothing abt johnten but. the...  \n",
       "4                                https://t.co/NIrmGVj5hB  \n",
       "10902  Court of Appeal rules Section 377A stays but c...  \n",
       "10903  RT @HumanDignityT: BREAKING: Partial victory a...  \n",
       "10904  RT @afa_singapore: AfA Singapore is deeply dis...  \n",
       "10905  RT @kixes: The conclusion from #Singapore’s Co...  \n",
       "10906  RT @raynerkjtan: Today, the Singapore Court of...  "
      ]
     },
     "execution_count": 5,
     "metadata": {},
     "output_type": "execute_result"
    }
   ],
   "source": [
    "tweets_total.head(5).append(tweets_total.tail(5))"
   ]
  },
  {
   "cell_type": "code",
   "execution_count": 6,
   "id": "ebe5507f",
   "metadata": {},
   "outputs": [
    {
     "name": "stdout",
     "output_type": "stream",
     "text": [
      "<class 'pandas.core.frame.DataFrame'>\n",
      "RangeIndex: 10907 entries, 0 to 10906\n",
      "Data columns (total 4 columns):\n",
      " #   Column      Non-Null Count  Dtype \n",
      "---  ------      --------------  ----- \n",
      " 0   Unnamed: 0  10907 non-null  int64 \n",
      " 1   Time        10907 non-null  object\n",
      " 2   Author ID   10907 non-null  int64 \n",
      " 3   Tweet       10907 non-null  object\n",
      "dtypes: int64(2), object(2)\n",
      "memory usage: 341.0+ KB\n"
     ]
    }
   ],
   "source": [
    "tweets_total.info()"
   ]
  },
  {
   "cell_type": "code",
   "execution_count": 7,
   "id": "0e94db7b",
   "metadata": {},
   "outputs": [],
   "source": [
    "tweets_total = tweets_total.drop(columns=['Unnamed: 0'])"
   ]
  },
  {
   "cell_type": "code",
   "execution_count": 8,
   "id": "8b1927a3",
   "metadata": {},
   "outputs": [
    {
     "name": "stderr",
     "output_type": "stream",
     "text": [
      "/var/folders/qc/s8jdkyqj7zd15w9r6vrffpsm0000gn/T/ipykernel_1581/795672648.py:1: FutureWarning: The frame.append method is deprecated and will be removed from pandas in a future version. Use pandas.concat instead.\n",
      "  tweets_total.head(5).append(tweets_total.tail(5))\n"
     ]
    },
    {
     "data": {
      "text/html": [
       "<div>\n",
       "<style scoped>\n",
       "    .dataframe tbody tr th:only-of-type {\n",
       "        vertical-align: middle;\n",
       "    }\n",
       "\n",
       "    .dataframe tbody tr th {\n",
       "        vertical-align: top;\n",
       "    }\n",
       "\n",
       "    .dataframe thead th {\n",
       "        text-align: right;\n",
       "    }\n",
       "</style>\n",
       "<table border=\"1\" class=\"dataframe\">\n",
       "  <thead>\n",
       "    <tr style=\"text-align: right;\">\n",
       "      <th></th>\n",
       "      <th>Time</th>\n",
       "      <th>Author ID</th>\n",
       "      <th>Tweet</th>\n",
       "    </tr>\n",
       "  </thead>\n",
       "  <tbody>\n",
       "    <tr>\n",
       "      <th>0</th>\n",
       "      <td>2017-12-12 13:10:53+00:00</td>\n",
       "      <td>386815282</td>\n",
       "      <td>RT @goproudout: In Singapore, it’s time to cha...</td>\n",
       "    </tr>\n",
       "    <tr>\n",
       "      <th>1</th>\n",
       "      <td>2017-12-12 13:00:32+00:00</td>\n",
       "      <td>3128624681</td>\n",
       "      <td>In Singapore, it’s time to change closed minds...</td>\n",
       "    </tr>\n",
       "    <tr>\n",
       "      <th>2</th>\n",
       "      <td>2017-11-29 16:48:02+00:00</td>\n",
       "      <td>820846679398051840</td>\n",
       "      <td>Singapore’s gay circle has way too many #metoo...</td>\n",
       "    </tr>\n",
       "    <tr>\n",
       "      <th>3</th>\n",
       "      <td>2017-11-04 13:32:18+00:00</td>\n",
       "      <td>905756070202576896</td>\n",
       "      <td>disclaimer i know nothing abt johnten but. the...</td>\n",
       "    </tr>\n",
       "    <tr>\n",
       "      <th>4</th>\n",
       "      <td>2017-10-08 08:46:03+00:00</td>\n",
       "      <td>908961631991767040</td>\n",
       "      <td>https://t.co/NIrmGVj5hB</td>\n",
       "    </tr>\n",
       "    <tr>\n",
       "      <th>10902</th>\n",
       "      <td>2022-02-28 11:57:09+00:00</td>\n",
       "      <td>149585330</td>\n",
       "      <td>Court of Appeal rules Section 377A stays but c...</td>\n",
       "    </tr>\n",
       "    <tr>\n",
       "      <th>10903</th>\n",
       "      <td>2022-02-28 11:48:30+00:00</td>\n",
       "      <td>3158178364</td>\n",
       "      <td>RT @HumanDignityT: BREAKING: Partial victory a...</td>\n",
       "    </tr>\n",
       "    <tr>\n",
       "      <th>10904</th>\n",
       "      <td>2022-02-28 11:32:08+00:00</td>\n",
       "      <td>23029296</td>\n",
       "      <td>RT @afa_singapore: AfA Singapore is deeply dis...</td>\n",
       "    </tr>\n",
       "    <tr>\n",
       "      <th>10905</th>\n",
       "      <td>2022-02-28 11:31:03+00:00</td>\n",
       "      <td>881337963505868800</td>\n",
       "      <td>RT @kixes: The conclusion from #Singapore’s Co...</td>\n",
       "    </tr>\n",
       "    <tr>\n",
       "      <th>10906</th>\n",
       "      <td>2022-02-28 11:27:03+00:00</td>\n",
       "      <td>16922687</td>\n",
       "      <td>RT @raynerkjtan: Today, the Singapore Court of...</td>\n",
       "    </tr>\n",
       "  </tbody>\n",
       "</table>\n",
       "</div>"
      ],
      "text/plain": [
       "                            Time           Author ID  \\\n",
       "0      2017-12-12 13:10:53+00:00           386815282   \n",
       "1      2017-12-12 13:00:32+00:00          3128624681   \n",
       "2      2017-11-29 16:48:02+00:00  820846679398051840   \n",
       "3      2017-11-04 13:32:18+00:00  905756070202576896   \n",
       "4      2017-10-08 08:46:03+00:00  908961631991767040   \n",
       "10902  2022-02-28 11:57:09+00:00           149585330   \n",
       "10903  2022-02-28 11:48:30+00:00          3158178364   \n",
       "10904  2022-02-28 11:32:08+00:00            23029296   \n",
       "10905  2022-02-28 11:31:03+00:00  881337963505868800   \n",
       "10906  2022-02-28 11:27:03+00:00            16922687   \n",
       "\n",
       "                                                   Tweet  \n",
       "0      RT @goproudout: In Singapore, it’s time to cha...  \n",
       "1      In Singapore, it’s time to change closed minds...  \n",
       "2      Singapore’s gay circle has way too many #metoo...  \n",
       "3      disclaimer i know nothing abt johnten but. the...  \n",
       "4                                https://t.co/NIrmGVj5hB  \n",
       "10902  Court of Appeal rules Section 377A stays but c...  \n",
       "10903  RT @HumanDignityT: BREAKING: Partial victory a...  \n",
       "10904  RT @afa_singapore: AfA Singapore is deeply dis...  \n",
       "10905  RT @kixes: The conclusion from #Singapore’s Co...  \n",
       "10906  RT @raynerkjtan: Today, the Singapore Court of...  "
      ]
     },
     "execution_count": 8,
     "metadata": {},
     "output_type": "execute_result"
    }
   ],
   "source": [
    "tweets_total.head(5).append(tweets_total.tail(5))"
   ]
  },
  {
   "cell_type": "code",
   "execution_count": 9,
   "id": "aa9ddb96",
   "metadata": {},
   "outputs": [
    {
     "name": "stdout",
     "output_type": "stream",
     "text": [
      "<class 'pandas.core.frame.DataFrame'>\n",
      "RangeIndex: 10907 entries, 0 to 10906\n",
      "Data columns (total 3 columns):\n",
      " #   Column     Non-Null Count  Dtype \n",
      "---  ------     --------------  ----- \n",
      " 0   Time       10907 non-null  object\n",
      " 1   Author ID  10907 non-null  int64 \n",
      " 2   Tweet      10907 non-null  object\n",
      "dtypes: int64(1), object(2)\n",
      "memory usage: 255.8+ KB\n"
     ]
    }
   ],
   "source": [
    "tweets_total.info()"
   ]
  },
  {
   "cell_type": "code",
   "execution_count": 10,
   "id": "412fea5b",
   "metadata": {},
   "outputs": [
    {
     "data": {
      "text/plain": [
       "0        False\n",
       "1        False\n",
       "2        False\n",
       "3        False\n",
       "4        False\n",
       "         ...  \n",
       "10902     True\n",
       "10903    False\n",
       "10904    False\n",
       "10905    False\n",
       "10906    False\n",
       "Length: 10907, dtype: bool"
      ]
     },
     "execution_count": 10,
     "metadata": {},
     "output_type": "execute_result"
    }
   ],
   "source": [
    "tweets_total.duplicated()"
   ]
  },
  {
   "cell_type": "code",
   "execution_count": 11,
   "id": "7fd915c0",
   "metadata": {},
   "outputs": [
    {
     "data": {
      "text/html": [
       "<div>\n",
       "<style scoped>\n",
       "    .dataframe tbody tr th:only-of-type {\n",
       "        vertical-align: middle;\n",
       "    }\n",
       "\n",
       "    .dataframe tbody tr th {\n",
       "        vertical-align: top;\n",
       "    }\n",
       "\n",
       "    .dataframe thead th {\n",
       "        text-align: right;\n",
       "    }\n",
       "</style>\n",
       "<table border=\"1\" class=\"dataframe\">\n",
       "  <thead>\n",
       "    <tr style=\"text-align: right;\">\n",
       "      <th></th>\n",
       "      <th>Time</th>\n",
       "      <th>Author ID</th>\n",
       "      <th>Tweet</th>\n",
       "    </tr>\n",
       "  </thead>\n",
       "  <tbody>\n",
       "    <tr>\n",
       "      <th>563</th>\n",
       "      <td>2017-12-12 13:10:53+00:00</td>\n",
       "      <td>386815282</td>\n",
       "      <td>RT @goproudout: In Singapore, it’s time to cha...</td>\n",
       "    </tr>\n",
       "    <tr>\n",
       "      <th>564</th>\n",
       "      <td>2017-12-12 13:00:32+00:00</td>\n",
       "      <td>3128624681</td>\n",
       "      <td>In Singapore, it’s time to change closed minds...</td>\n",
       "    </tr>\n",
       "    <tr>\n",
       "      <th>719</th>\n",
       "      <td>2017-10-08 08:46:03+00:00</td>\n",
       "      <td>908961631991767040</td>\n",
       "      <td>https://t.co/NIrmGVj5hB</td>\n",
       "    </tr>\n",
       "    <tr>\n",
       "      <th>1003</th>\n",
       "      <td>2017-12-29 16:30:57+00:00</td>\n",
       "      <td>963496597</td>\n",
       "      <td>Gay man in #Singapore blocked from adopting hi...</td>\n",
       "    </tr>\n",
       "    <tr>\n",
       "      <th>1010</th>\n",
       "      <td>2017-12-29 15:08:50+00:00</td>\n",
       "      <td>2823017921</td>\n",
       "      <td>RT @Dyke67ny: Court rejects gay Singapore man'...</td>\n",
       "    </tr>\n",
       "    <tr>\n",
       "      <th>...</th>\n",
       "      <td>...</td>\n",
       "      <td>...</td>\n",
       "      <td>...</td>\n",
       "    </tr>\n",
       "    <tr>\n",
       "      <th>10844</th>\n",
       "      <td>2022-02-28 21:53:42+00:00</td>\n",
       "      <td>500508284</td>\n",
       "      <td>RT @LGBTMarriage: #LGBT organizations are call...</td>\n",
       "    </tr>\n",
       "    <tr>\n",
       "      <th>10852</th>\n",
       "      <td>2022-02-28 20:04:07+00:00</td>\n",
       "      <td>1031150239745486848</td>\n",
       "      <td>RT @S_Chelvan: Last day of #LGBT+ History Mont...</td>\n",
       "    </tr>\n",
       "    <tr>\n",
       "      <th>10856</th>\n",
       "      <td>2022-02-28 19:00:29+00:00</td>\n",
       "      <td>1384474740384047106</td>\n",
       "      <td>RT @LGBTMarriage: #LGBT organizations are call...</td>\n",
       "    </tr>\n",
       "    <tr>\n",
       "      <th>10883</th>\n",
       "      <td>2022-02-28 13:27:51+00:00</td>\n",
       "      <td>743957044722532352</td>\n",
       "      <td>RT @S_Chelvan: Last day of #LGBT+ History Mont...</td>\n",
       "    </tr>\n",
       "    <tr>\n",
       "      <th>10902</th>\n",
       "      <td>2022-02-28 11:57:09+00:00</td>\n",
       "      <td>149585330</td>\n",
       "      <td>Court of Appeal rules Section 377A stays but c...</td>\n",
       "    </tr>\n",
       "  </tbody>\n",
       "</table>\n",
       "<p>705 rows × 3 columns</p>\n",
       "</div>"
      ],
      "text/plain": [
       "                            Time            Author ID  \\\n",
       "563    2017-12-12 13:10:53+00:00            386815282   \n",
       "564    2017-12-12 13:00:32+00:00           3128624681   \n",
       "719    2017-10-08 08:46:03+00:00   908961631991767040   \n",
       "1003   2017-12-29 16:30:57+00:00            963496597   \n",
       "1010   2017-12-29 15:08:50+00:00           2823017921   \n",
       "...                          ...                  ...   \n",
       "10844  2022-02-28 21:53:42+00:00            500508284   \n",
       "10852  2022-02-28 20:04:07+00:00  1031150239745486848   \n",
       "10856  2022-02-28 19:00:29+00:00  1384474740384047106   \n",
       "10883  2022-02-28 13:27:51+00:00   743957044722532352   \n",
       "10902  2022-02-28 11:57:09+00:00            149585330   \n",
       "\n",
       "                                                   Tweet  \n",
       "563    RT @goproudout: In Singapore, it’s time to cha...  \n",
       "564    In Singapore, it’s time to change closed minds...  \n",
       "719                              https://t.co/NIrmGVj5hB  \n",
       "1003   Gay man in #Singapore blocked from adopting hi...  \n",
       "1010   RT @Dyke67ny: Court rejects gay Singapore man'...  \n",
       "...                                                  ...  \n",
       "10844  RT @LGBTMarriage: #LGBT organizations are call...  \n",
       "10852  RT @S_Chelvan: Last day of #LGBT+ History Mont...  \n",
       "10856  RT @LGBTMarriage: #LGBT organizations are call...  \n",
       "10883  RT @S_Chelvan: Last day of #LGBT+ History Mont...  \n",
       "10902  Court of Appeal rules Section 377A stays but c...  \n",
       "\n",
       "[705 rows x 3 columns]"
      ]
     },
     "execution_count": 11,
     "metadata": {},
     "output_type": "execute_result"
    }
   ],
   "source": [
    "tweets_total[tweets_total.duplicated()]"
   ]
  },
  {
   "cell_type": "code",
   "execution_count": 12,
   "id": "4a97e2d7",
   "metadata": {},
   "outputs": [],
   "source": [
    "tweets_total = tweets_total.drop_duplicates()"
   ]
  },
  {
   "cell_type": "code",
   "execution_count": 13,
   "id": "ba26b70b",
   "metadata": {},
   "outputs": [
    {
     "data": {
      "text/html": [
       "<div>\n",
       "<style scoped>\n",
       "    .dataframe tbody tr th:only-of-type {\n",
       "        vertical-align: middle;\n",
       "    }\n",
       "\n",
       "    .dataframe tbody tr th {\n",
       "        vertical-align: top;\n",
       "    }\n",
       "\n",
       "    .dataframe thead th {\n",
       "        text-align: right;\n",
       "    }\n",
       "</style>\n",
       "<table border=\"1\" class=\"dataframe\">\n",
       "  <thead>\n",
       "    <tr style=\"text-align: right;\">\n",
       "      <th></th>\n",
       "      <th>Time</th>\n",
       "      <th>Author ID</th>\n",
       "      <th>Tweet</th>\n",
       "    </tr>\n",
       "  </thead>\n",
       "  <tbody>\n",
       "  </tbody>\n",
       "</table>\n",
       "</div>"
      ],
      "text/plain": [
       "Empty DataFrame\n",
       "Columns: [Time, Author ID, Tweet]\n",
       "Index: []"
      ]
     },
     "execution_count": 13,
     "metadata": {},
     "output_type": "execute_result"
    }
   ],
   "source": [
    "tweets_total[tweets_total.duplicated()]"
   ]
  },
  {
   "cell_type": "code",
   "execution_count": 14,
   "id": "130f21d4",
   "metadata": {
    "scrolled": false
   },
   "outputs": [
    {
     "name": "stderr",
     "output_type": "stream",
     "text": [
      "/var/folders/qc/s8jdkyqj7zd15w9r6vrffpsm0000gn/T/ipykernel_1581/1528171753.py:15: FutureWarning: The frame.append method is deprecated and will be removed from pandas in a future version. Use pandas.concat instead.\n",
      "  tweets_total.head(5).append(tweets_total.tail(5))\n"
     ]
    },
    {
     "data": {
      "text/html": [
       "<div>\n",
       "<style scoped>\n",
       "    .dataframe tbody tr th:only-of-type {\n",
       "        vertical-align: middle;\n",
       "    }\n",
       "\n",
       "    .dataframe tbody tr th {\n",
       "        vertical-align: top;\n",
       "    }\n",
       "\n",
       "    .dataframe thead th {\n",
       "        text-align: right;\n",
       "    }\n",
       "</style>\n",
       "<table border=\"1\" class=\"dataframe\">\n",
       "  <thead>\n",
       "    <tr style=\"text-align: right;\">\n",
       "      <th></th>\n",
       "      <th>Time</th>\n",
       "      <th>Tweet</th>\n",
       "      <th>Year</th>\n",
       "      <th>Month</th>\n",
       "      <th>Weekday</th>\n",
       "    </tr>\n",
       "    <tr>\n",
       "      <th>Date</th>\n",
       "      <th></th>\n",
       "      <th></th>\n",
       "      <th></th>\n",
       "      <th></th>\n",
       "      <th></th>\n",
       "    </tr>\n",
       "  </thead>\n",
       "  <tbody>\n",
       "    <tr>\n",
       "      <th>2017-12-12</th>\n",
       "      <td>13:10:53+00:00</td>\n",
       "      <td>RT @goproudout: In Singapore, it’s time to cha...</td>\n",
       "      <td>2017</td>\n",
       "      <td>12</td>\n",
       "      <td>1</td>\n",
       "    </tr>\n",
       "    <tr>\n",
       "      <th>2017-12-12</th>\n",
       "      <td>13:00:32+00:00</td>\n",
       "      <td>In Singapore, it’s time to change closed minds...</td>\n",
       "      <td>2017</td>\n",
       "      <td>12</td>\n",
       "      <td>1</td>\n",
       "    </tr>\n",
       "    <tr>\n",
       "      <th>2017-11-29</th>\n",
       "      <td>16:48:02+00:00</td>\n",
       "      <td>Singapore’s gay circle has way too many #metoo...</td>\n",
       "      <td>2017</td>\n",
       "      <td>11</td>\n",
       "      <td>2</td>\n",
       "    </tr>\n",
       "    <tr>\n",
       "      <th>2017-11-04</th>\n",
       "      <td>13:32:18+00:00</td>\n",
       "      <td>disclaimer i know nothing abt johnten but. the...</td>\n",
       "      <td>2017</td>\n",
       "      <td>11</td>\n",
       "      <td>5</td>\n",
       "    </tr>\n",
       "    <tr>\n",
       "      <th>2017-10-08</th>\n",
       "      <td>08:46:03+00:00</td>\n",
       "      <td>https://t.co/NIrmGVj5hB</td>\n",
       "      <td>2017</td>\n",
       "      <td>10</td>\n",
       "      <td>6</td>\n",
       "    </tr>\n",
       "    <tr>\n",
       "      <th>2022-02-28</th>\n",
       "      <td>11:59:03+00:00</td>\n",
       "      <td>Singapore court refuses to overturn archaic ga...</td>\n",
       "      <td>2022</td>\n",
       "      <td>2</td>\n",
       "      <td>0</td>\n",
       "    </tr>\n",
       "    <tr>\n",
       "      <th>2022-02-28</th>\n",
       "      <td>11:48:30+00:00</td>\n",
       "      <td>RT @HumanDignityT: BREAKING: Partial victory a...</td>\n",
       "      <td>2022</td>\n",
       "      <td>2</td>\n",
       "      <td>0</td>\n",
       "    </tr>\n",
       "    <tr>\n",
       "      <th>2022-02-28</th>\n",
       "      <td>11:32:08+00:00</td>\n",
       "      <td>RT @afa_singapore: AfA Singapore is deeply dis...</td>\n",
       "      <td>2022</td>\n",
       "      <td>2</td>\n",
       "      <td>0</td>\n",
       "    </tr>\n",
       "    <tr>\n",
       "      <th>2022-02-28</th>\n",
       "      <td>11:31:03+00:00</td>\n",
       "      <td>RT @kixes: The conclusion from #Singapore’s Co...</td>\n",
       "      <td>2022</td>\n",
       "      <td>2</td>\n",
       "      <td>0</td>\n",
       "    </tr>\n",
       "    <tr>\n",
       "      <th>2022-02-28</th>\n",
       "      <td>11:27:03+00:00</td>\n",
       "      <td>RT @raynerkjtan: Today, the Singapore Court of...</td>\n",
       "      <td>2022</td>\n",
       "      <td>2</td>\n",
       "      <td>0</td>\n",
       "    </tr>\n",
       "  </tbody>\n",
       "</table>\n",
       "</div>"
      ],
      "text/plain": [
       "                      Time                                              Tweet  \\\n",
       "Date                                                                            \n",
       "2017-12-12  13:10:53+00:00  RT @goproudout: In Singapore, it’s time to cha...   \n",
       "2017-12-12  13:00:32+00:00  In Singapore, it’s time to change closed minds...   \n",
       "2017-11-29  16:48:02+00:00  Singapore’s gay circle has way too many #metoo...   \n",
       "2017-11-04  13:32:18+00:00  disclaimer i know nothing abt johnten but. the...   \n",
       "2017-10-08  08:46:03+00:00                            https://t.co/NIrmGVj5hB   \n",
       "2022-02-28  11:59:03+00:00  Singapore court refuses to overturn archaic ga...   \n",
       "2022-02-28  11:48:30+00:00  RT @HumanDignityT: BREAKING: Partial victory a...   \n",
       "2022-02-28  11:32:08+00:00  RT @afa_singapore: AfA Singapore is deeply dis...   \n",
       "2022-02-28  11:31:03+00:00  RT @kixes: The conclusion from #Singapore’s Co...   \n",
       "2022-02-28  11:27:03+00:00  RT @raynerkjtan: Today, the Singapore Court of...   \n",
       "\n",
       "            Year  Month  Weekday  \n",
       "Date                              \n",
       "2017-12-12  2017     12        1  \n",
       "2017-12-12  2017     12        1  \n",
       "2017-11-29  2017     11        2  \n",
       "2017-11-04  2017     11        5  \n",
       "2017-10-08  2017     10        6  \n",
       "2022-02-28  2022      2        0  \n",
       "2022-02-28  2022      2        0  \n",
       "2022-02-28  2022      2        0  \n",
       "2022-02-28  2022      2        0  \n",
       "2022-02-28  2022      2        0  "
      ]
     },
     "execution_count": 14,
     "metadata": {},
     "output_type": "execute_result"
    }
   ],
   "source": [
    "tweets_total['Date'] = tweets_total['Time'].map(lambda x:x.split(' ')[0])\n",
    "tweets_total['Time'] = tweets_total['Time'].map(lambda x:x.split(' ')[1])\n",
    "\n",
    "tweets_total = tweets_total.drop(columns=['Author ID'])\n",
    "\n",
    "tweets_total['Date'] = pd.to_datetime(tweets_total['Date'])\n",
    "\n",
    "tweets_total.set_index('Date',inplace=True)\n",
    "\n",
    "tweets_total['Year'] = tweets_total.index.year\n",
    "tweets_total['Month'] = tweets_total.index.month\n",
    "tweets_total['Weekday'] = tweets_total.index.weekday\n",
    "\n",
    "\n",
    "tweets_total.head(5).append(tweets_total.tail(5))"
   ]
  },
  {
   "cell_type": "code",
   "execution_count": 15,
   "id": "819bedbd",
   "metadata": {},
   "outputs": [
    {
     "data": {
      "text/plain": [
       "DatetimeIndex(['2017-12-12', '2017-12-12', '2017-11-29', '2017-11-04',\n",
       "               '2017-10-08', '2017-10-01', '2017-09-10', '2017-08-26',\n",
       "               '2017-08-17', '2017-08-15',\n",
       "               ...\n",
       "               '2022-02-28', '2022-02-28', '2022-02-28', '2022-02-28',\n",
       "               '2022-02-28', '2022-02-28', '2022-02-28', '2022-02-28',\n",
       "               '2022-02-28', '2022-02-28'],\n",
       "              dtype='datetime64[ns]', name='Date', length=10202, freq=None)"
      ]
     },
     "execution_count": 15,
     "metadata": {},
     "output_type": "execute_result"
    }
   ],
   "source": [
    "tweets_total.index"
   ]
  },
  {
   "cell_type": "code",
   "execution_count": 17,
   "id": "67a66a4e",
   "metadata": {},
   "outputs": [
    {
     "name": "stdout",
     "output_type": "stream",
     "text": [
      "<class 'pandas.core.frame.DataFrame'>\n",
      "DatetimeIndex: 10202 entries, 2017-12-12 to 2022-02-28\n",
      "Data columns (total 5 columns):\n",
      " #   Column   Non-Null Count  Dtype \n",
      "---  ------   --------------  ----- \n",
      " 0   Time     10202 non-null  object\n",
      " 1   Tweet    10202 non-null  object\n",
      " 2   Year     10202 non-null  int64 \n",
      " 3   Month    10202 non-null  int64 \n",
      " 4   Weekday  10202 non-null  int64 \n",
      "dtypes: int64(3), object(2)\n",
      "memory usage: 478.2+ KB\n"
     ]
    }
   ],
   "source": [
    "tweets_total.info()"
   ]
  },
  {
   "cell_type": "code",
   "execution_count": 18,
   "id": "a4311b39",
   "metadata": {},
   "outputs": [
    {
     "name": "stdout",
     "output_type": "stream",
     "text": [
      "2017    2003\n",
      "2018    2021\n",
      "2019    2024\n",
      "2020    1573\n",
      "2021    1296\n",
      "2022    1285\n",
      "Name: Year, dtype: int64\n"
     ]
    }
   ],
   "source": [
    "year_count = tweets_total['Year'].value_counts().sort_index()\n",
    "year_count2 = year_count.sort_index()\n",
    "print(year_count2)"
   ]
  },
  {
   "cell_type": "markdown",
   "id": "c7a4404d",
   "metadata": {},
   "source": [
    "# Plot 1 for Overview of All Tweets"
   ]
  },
  {
   "cell_type": "code",
   "execution_count": 19,
   "id": "2018ea13",
   "metadata": {
    "scrolled": true
   },
   "outputs": [
    {
     "data": {
      "image/png": "[encoded data removed]",
      "text/plain": [
       "<Figure size 432x288 with 1 Axes>"
      ]
     },
     "metadata": {
      "needs_background": "light"
     },
     "output_type": "display_data"
    }
   ],
   "source": [
    "#Line plot of Years\n",
    "plt.plot(year_count2.index, year_count2.values, color='r', marker='o', markerfacecolor='red')\n",
    "plt.xlabel('Year',fontsize=12); \n",
    "plt.ylabel('Count',fontsize=12); \n",
    "plt.title('Tweets Number by Years',fontsize=15);\n"
   ]
  },
  {
   "cell_type": "markdown",
   "id": "7c49e596",
   "metadata": {},
   "source": [
    "Select Data"
   ]
  },
  {
   "cell_type": "code",
   "execution_count": 20,
   "id": "befd4043",
   "metadata": {},
   "outputs": [
    {
     "data": {
      "text/html": [
       "<div>\n",
       "<style scoped>\n",
       "    .dataframe tbody tr th:only-of-type {\n",
       "        vertical-align: middle;\n",
       "    }\n",
       "\n",
       "    .dataframe tbody tr th {\n",
       "        vertical-align: top;\n",
       "    }\n",
       "\n",
       "    .dataframe thead th {\n",
       "        text-align: right;\n",
       "    }\n",
       "</style>\n",
       "<table border=\"1\" class=\"dataframe\">\n",
       "  <thead>\n",
       "    <tr style=\"text-align: right;\">\n",
       "      <th></th>\n",
       "      <th>Time</th>\n",
       "      <th>Tweet</th>\n",
       "      <th>Year</th>\n",
       "      <th>Month</th>\n",
       "      <th>Weekday</th>\n",
       "    </tr>\n",
       "    <tr>\n",
       "      <th>Date</th>\n",
       "      <th></th>\n",
       "      <th></th>\n",
       "      <th></th>\n",
       "      <th></th>\n",
       "      <th></th>\n",
       "    </tr>\n",
       "  </thead>\n",
       "  <tbody>\n",
       "    <tr>\n",
       "      <th>2017-12-12</th>\n",
       "      <td>13:00:32+00:00</td>\n",
       "      <td>In Singapore, it’s time to change closed minds...</td>\n",
       "      <td>2017</td>\n",
       "      <td>12</td>\n",
       "      <td>1</td>\n",
       "    </tr>\n",
       "    <tr>\n",
       "      <th>2017-11-29</th>\n",
       "      <td>16:48:02+00:00</td>\n",
       "      <td>Singapore’s gay circle has way too many #metoo...</td>\n",
       "      <td>2017</td>\n",
       "      <td>11</td>\n",
       "      <td>2</td>\n",
       "    </tr>\n",
       "    <tr>\n",
       "      <th>2017-07-16</th>\n",
       "      <td>18:02:06+00:00</td>\n",
       "      <td>Singapore gay pride rally draws thousands amid...</td>\n",
       "      <td>2017</td>\n",
       "      <td>7</td>\n",
       "      <td>6</td>\n",
       "    </tr>\n",
       "  </tbody>\n",
       "</table>\n",
       "</div>"
      ],
      "text/plain": [
       "                      Time                                              Tweet  \\\n",
       "Date                                                                            \n",
       "2017-12-12  13:00:32+00:00  In Singapore, it’s time to change closed minds...   \n",
       "2017-11-29  16:48:02+00:00  Singapore’s gay circle has way too many #metoo...   \n",
       "2017-07-16  18:02:06+00:00  Singapore gay pride rally draws thousands amid...   \n",
       "\n",
       "            Year  Month  Weekday  \n",
       "Date                              \n",
       "2017-12-12  2017     12        1  \n",
       "2017-11-29  2017     11        2  \n",
       "2017-07-16  2017      7        6  "
      ]
     },
     "execution_count": 20,
     "metadata": {},
     "output_type": "execute_result"
    }
   ],
   "source": [
    "# Select data that matches \n",
    "tweets_total.loc[tweets_total['Tweet'].str.contains('gay', na=False)].head(3)"
   ]
  },
  {
   "cell_type": "code",
   "execution_count": 21,
   "id": "a9a76546",
   "metadata": {},
   "outputs": [
    {
     "data": {
      "text/html": [
       "<div>\n",
       "<style scoped>\n",
       "    .dataframe tbody tr th:only-of-type {\n",
       "        vertical-align: middle;\n",
       "    }\n",
       "\n",
       "    .dataframe tbody tr th {\n",
       "        vertical-align: top;\n",
       "    }\n",
       "\n",
       "    .dataframe thead th {\n",
       "        text-align: right;\n",
       "    }\n",
       "</style>\n",
       "<table border=\"1\" class=\"dataframe\">\n",
       "  <thead>\n",
       "    <tr style=\"text-align: right;\">\n",
       "      <th></th>\n",
       "      <th>Time</th>\n",
       "      <th>Tweet</th>\n",
       "      <th>Year</th>\n",
       "      <th>Month</th>\n",
       "      <th>Weekday</th>\n",
       "    </tr>\n",
       "    <tr>\n",
       "      <th>Date</th>\n",
       "      <th></th>\n",
       "      <th></th>\n",
       "      <th></th>\n",
       "      <th></th>\n",
       "      <th></th>\n",
       "    </tr>\n",
       "  </thead>\n",
       "  <tbody>\n",
       "    <tr>\n",
       "      <th>2017-12-12</th>\n",
       "      <td>13:10:53+00:00</td>\n",
       "      <td>RT @goproudout: In Singapore, it’s time to cha...</td>\n",
       "      <td>2017</td>\n",
       "      <td>12</td>\n",
       "      <td>1</td>\n",
       "    </tr>\n",
       "    <tr>\n",
       "      <th>2017-12-12</th>\n",
       "      <td>13:00:32+00:00</td>\n",
       "      <td>In Singapore, it’s time to change closed minds...</td>\n",
       "      <td>2017</td>\n",
       "      <td>12</td>\n",
       "      <td>1</td>\n",
       "    </tr>\n",
       "    <tr>\n",
       "      <th>2017-11-29</th>\n",
       "      <td>16:48:02+00:00</td>\n",
       "      <td>Singapore’s gay circle has way too many #metoo...</td>\n",
       "      <td>2017</td>\n",
       "      <td>11</td>\n",
       "      <td>2</td>\n",
       "    </tr>\n",
       "    <tr>\n",
       "      <th>2017-07-16</th>\n",
       "      <td>18:02:06+00:00</td>\n",
       "      <td>Singapore gay pride rally draws thousands amid...</td>\n",
       "      <td>2017</td>\n",
       "      <td>7</td>\n",
       "      <td>6</td>\n",
       "    </tr>\n",
       "    <tr>\n",
       "      <th>2017-07-10</th>\n",
       "      <td>15:20:40+00:00</td>\n",
       "      <td>#flashback to #pinkdot in #gay-singapore  brin...</td>\n",
       "      <td>2017</td>\n",
       "      <td>7</td>\n",
       "      <td>0</td>\n",
       "    </tr>\n",
       "    <tr>\n",
       "      <th>2017-07-10</th>\n",
       "      <td>14:18:49+00:00</td>\n",
       "      <td>RT @Reuters: Singapore gay pride rally draws t...</td>\n",
       "      <td>2017</td>\n",
       "      <td>7</td>\n",
       "      <td>0</td>\n",
       "    </tr>\n",
       "    <tr>\n",
       "      <th>2017-07-04</th>\n",
       "      <td>16:10:45+00:00</td>\n",
       "      <td>RT @AudiKhalid: What's after Pinkdot? https://...</td>\n",
       "      <td>2017</td>\n",
       "      <td>7</td>\n",
       "      <td>1</td>\n",
       "    </tr>\n",
       "    <tr>\n",
       "      <th>2017-07-03</th>\n",
       "      <td>02:06:01+00:00</td>\n",
       "      <td>Singapore gay pride rally draws thousands amid...</td>\n",
       "      <td>2017</td>\n",
       "      <td>7</td>\n",
       "      <td>0</td>\n",
       "    </tr>\n",
       "    <tr>\n",
       "      <th>2017-07-02</th>\n",
       "      <td>21:05:53+00:00</td>\n",
       "      <td>Thousands rally for gay pride in Singapore htt...</td>\n",
       "      <td>2017</td>\n",
       "      <td>7</td>\n",
       "      <td>6</td>\n",
       "    </tr>\n",
       "    <tr>\n",
       "      <th>2017-07-02</th>\n",
       "      <td>17:55:40+00:00</td>\n",
       "      <td>RT @Reuters: Singapore gay pride rally draws t...</td>\n",
       "      <td>2017</td>\n",
       "      <td>7</td>\n",
       "      <td>6</td>\n",
       "    </tr>\n",
       "  </tbody>\n",
       "</table>\n",
       "</div>"
      ],
      "text/plain": [
       "                      Time                                              Tweet  \\\n",
       "Date                                                                            \n",
       "2017-12-12  13:10:53+00:00  RT @goproudout: In Singapore, it’s time to cha...   \n",
       "2017-12-12  13:00:32+00:00  In Singapore, it’s time to change closed minds...   \n",
       "2017-11-29  16:48:02+00:00  Singapore’s gay circle has way too many #metoo...   \n",
       "2017-07-16  18:02:06+00:00  Singapore gay pride rally draws thousands amid...   \n",
       "2017-07-10  15:20:40+00:00  #flashback to #pinkdot in #gay-singapore  brin...   \n",
       "2017-07-10  14:18:49+00:00  RT @Reuters: Singapore gay pride rally draws t...   \n",
       "2017-07-04  16:10:45+00:00  RT @AudiKhalid: What's after Pinkdot? https://...   \n",
       "2017-07-03  02:06:01+00:00  Singapore gay pride rally draws thousands amid...   \n",
       "2017-07-02  21:05:53+00:00  Thousands rally for gay pride in Singapore htt...   \n",
       "2017-07-02  17:55:40+00:00  RT @Reuters: Singapore gay pride rally draws t...   \n",
       "\n",
       "            Year  Month  Weekday  \n",
       "Date                              \n",
       "2017-12-12  2017     12        1  \n",
       "2017-12-12  2017     12        1  \n",
       "2017-11-29  2017     11        2  \n",
       "2017-07-16  2017      7        6  \n",
       "2017-07-10  2017      7        0  \n",
       "2017-07-10  2017      7        0  \n",
       "2017-07-04  2017      7        1  \n",
       "2017-07-03  2017      7        0  \n",
       "2017-07-02  2017      7        6  \n",
       "2017-07-02  2017      7        6  "
      ]
     },
     "execution_count": 21,
     "metadata": {},
     "output_type": "execute_result"
    }
   ],
   "source": [
    "# Create a list of terms to search for\n",
    "searchfor = ['gay circle', 'lgbt', 'Singapore gay','gay']\n",
    "\n",
    "comment = tweets_total.loc[tweets_total['Tweet'].str.contains('|'.join(searchfor), na=False)]\n",
    "comment.head(10)"
   ]
  },
  {
   "cell_type": "code",
   "execution_count": 22,
   "id": "ae46b256",
   "metadata": {},
   "outputs": [
    {
     "name": "stdout",
     "output_type": "stream",
     "text": [
      "Number of returned related comment is 3193\n"
     ]
    }
   ],
   "source": [
    "print(\"Number of returned related comment is {}\".format(comment.shape[0]))"
   ]
  },
  {
   "cell_type": "markdown",
   "id": "34b3717f",
   "metadata": {},
   "source": [
    "# Text preprocessing"
   ]
  },
  {
   "cell_type": "code",
   "execution_count": 23,
   "id": "2d2b550f",
   "metadata": {},
   "outputs": [],
   "source": [
    "# clean the news content by using clean method from hero package\n",
    "import texthero as hero"
   ]
  },
  {
   "cell_type": "code",
   "execution_count": 24,
   "id": "4795ef69",
   "metadata": {},
   "outputs": [],
   "source": [
    "#create custom pipeline\n",
    "custom_pipeline = [hero.preprocessing.fillna,\n",
    "                   hero.preprocessing.lowercase,\n",
    "                   hero.preprocessing.remove_whitespace,\n",
    "                   hero.preprocessing.remove_urls,\n",
    "                   hero.preprocessing.remove_stopwords,\n",
    "                   hero.preprocessing.remove_punctuation,\n",
    "                   hero.preprocessing.remove_diacritics,\n",
    "                   hero.preprocessing.remove_digits\n",
    "                   ]\n",
    "\n",
    "tweets_total['clean_Tweet'] = tweets_total['Tweet'].pipe(hero.clean, custom_pipeline)"
   ]
  },
  {
   "cell_type": "code",
   "execution_count": 25,
   "id": "d64f1124",
   "metadata": {},
   "outputs": [],
   "source": [
    "#tweets_total['clean_Tweet'] = hero.remove_urls(tweets_total['Tweet'])\n",
    "#tweets_total.iloc[0].clean_Tweet"
   ]
  },
  {
   "cell_type": "code",
   "execution_count": 26,
   "id": "d3875628",
   "metadata": {},
   "outputs": [],
   "source": [
    "# clean the Tweet by using clean method from hero package\n",
    "#tweets_total['clean_Tweet'] = hero.clean(tweets_total['clean_Tweet'])"
   ]
  },
  {
   "cell_type": "code",
   "execution_count": 27,
   "id": "3d3a7a70",
   "metadata": {},
   "outputs": [
    {
     "name": "stderr",
     "output_type": "stream",
     "text": [
      "/var/folders/qc/s8jdkyqj7zd15w9r6vrffpsm0000gn/T/ipykernel_1581/3148481373.py:3: FutureWarning: The frame.append method is deprecated and will be removed from pandas in a future version. Use pandas.concat instead.\n",
      "  tweets_total[['Tweet','clean_Tweet']].head(3).append(tweets_total[['Tweet','clean_Tweet']].tail(3))\n"
     ]
    },
    {
     "data": {
      "text/html": [
       "<div>\n",
       "<style scoped>\n",
       "    .dataframe tbody tr th:only-of-type {\n",
       "        vertical-align: middle;\n",
       "    }\n",
       "\n",
       "    .dataframe tbody tr th {\n",
       "        vertical-align: top;\n",
       "    }\n",
       "\n",
       "    .dataframe thead th {\n",
       "        text-align: right;\n",
       "    }\n",
       "</style>\n",
       "<table border=\"1\" class=\"dataframe\">\n",
       "  <thead>\n",
       "    <tr style=\"text-align: right;\">\n",
       "      <th></th>\n",
       "      <th>Tweet</th>\n",
       "      <th>clean_Tweet</th>\n",
       "    </tr>\n",
       "    <tr>\n",
       "      <th>Date</th>\n",
       "      <th></th>\n",
       "      <th></th>\n",
       "    </tr>\n",
       "  </thead>\n",
       "  <tbody>\n",
       "    <tr>\n",
       "      <th>2017-12-12</th>\n",
       "      <td>RT @goproudout: In Singapore, it’s time to cha...</td>\n",
       "      <td>rt  goproudout   singapore   time  change clos...</td>\n",
       "    </tr>\n",
       "    <tr>\n",
       "      <th>2017-12-12</th>\n",
       "      <td>In Singapore, it’s time to change closed minds...</td>\n",
       "      <td>singapore   time  change closed minds towards...</td>\n",
       "    </tr>\n",
       "    <tr>\n",
       "      <th>2017-11-29</th>\n",
       "      <td>Singapore’s gay circle has way too many #metoo...</td>\n",
       "      <td>singapore gay circle  way  many  metoo stories...</td>\n",
       "    </tr>\n",
       "    <tr>\n",
       "      <th>2022-02-28</th>\n",
       "      <td>RT @afa_singapore: AfA Singapore is deeply dis...</td>\n",
       "      <td>rt  afa singapore  afa singapore  deeply disap...</td>\n",
       "    </tr>\n",
       "    <tr>\n",
       "      <th>2022-02-28</th>\n",
       "      <td>RT @kixes: The conclusion from #Singapore’s Co...</td>\n",
       "      <td>rt  kixes   conclusion   singapore court  appe...</td>\n",
       "    </tr>\n",
       "    <tr>\n",
       "      <th>2022-02-28</th>\n",
       "      <td>RT @raynerkjtan: Today, the Singapore Court of...</td>\n",
       "      <td>rt  raynerkjtan  today   singapore court  appe...</td>\n",
       "    </tr>\n",
       "  </tbody>\n",
       "</table>\n",
       "</div>"
      ],
      "text/plain": [
       "                                                        Tweet  \\\n",
       "Date                                                            \n",
       "2017-12-12  RT @goproudout: In Singapore, it’s time to cha...   \n",
       "2017-12-12  In Singapore, it’s time to change closed minds...   \n",
       "2017-11-29  Singapore’s gay circle has way too many #metoo...   \n",
       "2022-02-28  RT @afa_singapore: AfA Singapore is deeply dis...   \n",
       "2022-02-28  RT @kixes: The conclusion from #Singapore’s Co...   \n",
       "2022-02-28  RT @raynerkjtan: Today, the Singapore Court of...   \n",
       "\n",
       "                                                  clean_Tweet  \n",
       "Date                                                           \n",
       "2017-12-12  rt  goproudout   singapore   time  change clos...  \n",
       "2017-12-12   singapore   time  change closed minds towards...  \n",
       "2017-11-29  singapore gay circle  way  many  metoo stories...  \n",
       "2022-02-28  rt  afa singapore  afa singapore  deeply disap...  \n",
       "2022-02-28  rt  kixes   conclusion   singapore court  appe...  \n",
       "2022-02-28  rt  raynerkjtan  today   singapore court  appe...  "
      ]
     },
     "execution_count": 27,
     "metadata": {},
     "output_type": "execute_result"
    }
   ],
   "source": [
    "#show unclean and clean Tweet\n",
    "\n",
    "tweets_total[['Tweet','clean_Tweet']].head(3).append(tweets_total[['Tweet','clean_Tweet']].tail(3))"
   ]
  },
  {
   "cell_type": "code",
   "execution_count": 28,
   "id": "1739437c",
   "metadata": {},
   "outputs": [
    {
     "data": {
      "text/html": [
       "<div>\n",
       "<style scoped>\n",
       "    .dataframe tbody tr th:only-of-type {\n",
       "        vertical-align: middle;\n",
       "    }\n",
       "\n",
       "    .dataframe tbody tr th {\n",
       "        vertical-align: top;\n",
       "    }\n",
       "\n",
       "    .dataframe thead th {\n",
       "        text-align: right;\n",
       "    }\n",
       "</style>\n",
       "<table border=\"1\" class=\"dataframe\">\n",
       "  <thead>\n",
       "    <tr style=\"text-align: right;\">\n",
       "      <th></th>\n",
       "      <th>Time</th>\n",
       "      <th>Tweet</th>\n",
       "      <th>Year</th>\n",
       "      <th>Month</th>\n",
       "      <th>Weekday</th>\n",
       "      <th>clean_Tweet</th>\n",
       "    </tr>\n",
       "    <tr>\n",
       "      <th>Date</th>\n",
       "      <th></th>\n",
       "      <th></th>\n",
       "      <th></th>\n",
       "      <th></th>\n",
       "      <th></th>\n",
       "      <th></th>\n",
       "    </tr>\n",
       "  </thead>\n",
       "  <tbody>\n",
       "    <tr>\n",
       "      <th>2017-12-12</th>\n",
       "      <td>13:10:53+00:00</td>\n",
       "      <td>RT @goproudout: In Singapore, it’s time to cha...</td>\n",
       "      <td>2017</td>\n",
       "      <td>12</td>\n",
       "      <td>1</td>\n",
       "      <td>rt  goproudout   singapore   time  change clos...</td>\n",
       "    </tr>\n",
       "    <tr>\n",
       "      <th>2017-12-12</th>\n",
       "      <td>13:00:32+00:00</td>\n",
       "      <td>In Singapore, it’s time to change closed minds...</td>\n",
       "      <td>2017</td>\n",
       "      <td>12</td>\n",
       "      <td>1</td>\n",
       "      <td>singapore   time  change closed minds towards...</td>\n",
       "    </tr>\n",
       "    <tr>\n",
       "      <th>2017-11-29</th>\n",
       "      <td>16:48:02+00:00</td>\n",
       "      <td>Singapore’s gay circle has way too many #metoo...</td>\n",
       "      <td>2017</td>\n",
       "      <td>11</td>\n",
       "      <td>2</td>\n",
       "      <td>singapore gay circle  way  many  metoo stories...</td>\n",
       "    </tr>\n",
       "    <tr>\n",
       "      <th>2017-11-04</th>\n",
       "      <td>13:32:18+00:00</td>\n",
       "      <td>disclaimer i know nothing abt johnten but. the...</td>\n",
       "      <td>2017</td>\n",
       "      <td>11</td>\n",
       "      <td>5</td>\n",
       "      <td>disclaimer  know nothing abt johnten    vibes ...</td>\n",
       "    </tr>\n",
       "    <tr>\n",
       "      <th>2017-10-08</th>\n",
       "      <td>08:46:03+00:00</td>\n",
       "      <td>https://t.co/NIrmGVj5hB</td>\n",
       "      <td>2017</td>\n",
       "      <td>10</td>\n",
       "      <td>6</td>\n",
       "      <td></td>\n",
       "    </tr>\n",
       "    <tr>\n",
       "      <th>...</th>\n",
       "      <td>...</td>\n",
       "      <td>...</td>\n",
       "      <td>...</td>\n",
       "      <td>...</td>\n",
       "      <td>...</td>\n",
       "      <td>...</td>\n",
       "    </tr>\n",
       "    <tr>\n",
       "      <th>2022-02-28</th>\n",
       "      <td>11:59:03+00:00</td>\n",
       "      <td>Singapore court refuses to overturn archaic ga...</td>\n",
       "      <td>2022</td>\n",
       "      <td>2</td>\n",
       "      <td>0</td>\n",
       "      <td>singapore court refuses  overturn archaic gay ...</td>\n",
       "    </tr>\n",
       "    <tr>\n",
       "      <th>2022-02-28</th>\n",
       "      <td>11:48:30+00:00</td>\n",
       "      <td>RT @HumanDignityT: BREAKING: Partial victory a...</td>\n",
       "      <td>2022</td>\n",
       "      <td>2</td>\n",
       "      <td>0</td>\n",
       "      <td>rt  humandignityt  breaking  partial victory  ...</td>\n",
       "    </tr>\n",
       "    <tr>\n",
       "      <th>2022-02-28</th>\n",
       "      <td>11:32:08+00:00</td>\n",
       "      <td>RT @afa_singapore: AfA Singapore is deeply dis...</td>\n",
       "      <td>2022</td>\n",
       "      <td>2</td>\n",
       "      <td>0</td>\n",
       "      <td>rt  afa singapore  afa singapore  deeply disap...</td>\n",
       "    </tr>\n",
       "    <tr>\n",
       "      <th>2022-02-28</th>\n",
       "      <td>11:31:03+00:00</td>\n",
       "      <td>RT @kixes: The conclusion from #Singapore’s Co...</td>\n",
       "      <td>2022</td>\n",
       "      <td>2</td>\n",
       "      <td>0</td>\n",
       "      <td>rt  kixes   conclusion   singapore court  appe...</td>\n",
       "    </tr>\n",
       "    <tr>\n",
       "      <th>2022-02-28</th>\n",
       "      <td>11:27:03+00:00</td>\n",
       "      <td>RT @raynerkjtan: Today, the Singapore Court of...</td>\n",
       "      <td>2022</td>\n",
       "      <td>2</td>\n",
       "      <td>0</td>\n",
       "      <td>rt  raynerkjtan  today   singapore court  appe...</td>\n",
       "    </tr>\n",
       "  </tbody>\n",
       "</table>\n",
       "<p>10202 rows × 6 columns</p>\n",
       "</div>"
      ],
      "text/plain": [
       "                      Time                                              Tweet  \\\n",
       "Date                                                                            \n",
       "2017-12-12  13:10:53+00:00  RT @goproudout: In Singapore, it’s time to cha...   \n",
       "2017-12-12  13:00:32+00:00  In Singapore, it’s time to change closed minds...   \n",
       "2017-11-29  16:48:02+00:00  Singapore’s gay circle has way too many #metoo...   \n",
       "2017-11-04  13:32:18+00:00  disclaimer i know nothing abt johnten but. the...   \n",
       "2017-10-08  08:46:03+00:00                            https://t.co/NIrmGVj5hB   \n",
       "...                    ...                                                ...   \n",
       "2022-02-28  11:59:03+00:00  Singapore court refuses to overturn archaic ga...   \n",
       "2022-02-28  11:48:30+00:00  RT @HumanDignityT: BREAKING: Partial victory a...   \n",
       "2022-02-28  11:32:08+00:00  RT @afa_singapore: AfA Singapore is deeply dis...   \n",
       "2022-02-28  11:31:03+00:00  RT @kixes: The conclusion from #Singapore’s Co...   \n",
       "2022-02-28  11:27:03+00:00  RT @raynerkjtan: Today, the Singapore Court of...   \n",
       "\n",
       "            Year  Month  Weekday  \\\n",
       "Date                               \n",
       "2017-12-12  2017     12        1   \n",
       "2017-12-12  2017     12        1   \n",
       "2017-11-29  2017     11        2   \n",
       "2017-11-04  2017     11        5   \n",
       "2017-10-08  2017     10        6   \n",
       "...          ...    ...      ...   \n",
       "2022-02-28  2022      2        0   \n",
       "2022-02-28  2022      2        0   \n",
       "2022-02-28  2022      2        0   \n",
       "2022-02-28  2022      2        0   \n",
       "2022-02-28  2022      2        0   \n",
       "\n",
       "                                                  clean_Tweet  \n",
       "Date                                                           \n",
       "2017-12-12  rt  goproudout   singapore   time  change clos...  \n",
       "2017-12-12   singapore   time  change closed minds towards...  \n",
       "2017-11-29  singapore gay circle  way  many  metoo stories...  \n",
       "2017-11-04  disclaimer  know nothing abt johnten    vibes ...  \n",
       "2017-10-08                                                     \n",
       "...                                                       ...  \n",
       "2022-02-28  singapore court refuses  overturn archaic gay ...  \n",
       "2022-02-28  rt  humandignityt  breaking  partial victory  ...  \n",
       "2022-02-28  rt  afa singapore  afa singapore  deeply disap...  \n",
       "2022-02-28  rt  kixes   conclusion   singapore court  appe...  \n",
       "2022-02-28  rt  raynerkjtan  today   singapore court  appe...  \n",
       "\n",
       "[10202 rows x 6 columns]"
      ]
     },
     "execution_count": 28,
     "metadata": {},
     "output_type": "execute_result"
    }
   ],
   "source": [
    "tweets_total.dropna(subset=['clean_Tweet'])"
   ]
  },
  {
   "cell_type": "code",
   "execution_count": 29,
   "id": "1036dc5d",
   "metadata": {},
   "outputs": [
    {
     "data": {
      "text/plain": [
       "Date\n",
       "2017-12-12    RT @goproudout: In Singapore, it’s time to cha...\n",
       "2017-12-12    In Singapore, it’s time to change closed minds...\n",
       "2017-11-29    Singapore’s gay circle has way too many #metoo...\n",
       "2017-11-04    disclaimer i know nothing abt johnten but. the...\n",
       "2017-10-08                              https://t.co/NIrmGVj5hB\n",
       "Name: Tweet, dtype: object"
      ]
     },
     "execution_count": 29,
     "metadata": {},
     "output_type": "execute_result"
    }
   ],
   "source": [
    "tweets_total.iloc[0:5].Tweet  #unclean tweets"
   ]
  },
  {
   "cell_type": "code",
   "execution_count": 30,
   "id": "2a3fb880",
   "metadata": {},
   "outputs": [
    {
     "data": {
      "text/plain": [
       "Date\n",
       "2017-12-12    rt  goproudout   singapore   time  change clos...\n",
       "2017-12-12     singapore   time  change closed minds towards...\n",
       "2017-11-29    singapore gay circle  way  many  metoo stories...\n",
       "2017-11-04    disclaimer  know nothing abt johnten    vibes ...\n",
       "2017-10-08                                                     \n",
       "Name: clean_Tweet, dtype: object"
      ]
     },
     "execution_count": 30,
     "metadata": {},
     "output_type": "execute_result"
    }
   ],
   "source": [
    "tweets_total.iloc[0:5].clean_Tweet #clean tweets"
   ]
  },
  {
   "cell_type": "code",
   "execution_count": 31,
   "id": "e0572088",
   "metadata": {},
   "outputs": [],
   "source": [
    "tweets_total.to_csv('tweetstotal_clean.csv')"
   ]
  },
  {
   "cell_type": "markdown",
   "id": "bb58429f",
   "metadata": {},
   "source": [
    "# Visualization"
   ]
  },
  {
   "cell_type": "code",
   "execution_count": 32,
   "id": "c69b34a5",
   "metadata": {},
   "outputs": [
    {
     "name": "stdout",
     "output_type": "stream",
     "text": [
      "singapore    8672\n",
      "rt           4642\n",
      "gay          3801\n",
      "lgbt         2463\n",
      "lesbian      2043\n",
      "sex          1840\n",
      "377a         1405\n",
      "cut          1261\n",
      "court        1073\n",
      "kiss         1040\n",
      "star          851\n",
      "wars          845\n",
      "section       796\n",
      "man           704\n",
      "pinkdot       680\n",
      "adopt         624\n",
      "law           569\n",
      "people        551\n",
      "scene         535\n",
      "china         521\n",
      "Name: clean_Tweet, dtype: int64\n"
     ]
    },
    {
     "data": {
      "image/png": "[encoded data removed]",
      "text/plain": [
       "<Figure size 432x288 with 1 Axes>"
      ]
     },
     "metadata": {
      "needs_background": "light"
     },
     "output_type": "display_data"
    }
   ],
   "source": [
    "NUM_TOP_WORDS = 20\n",
    "top_20 = hero.visualization.top_words(tweets_total.loc[:, 'clean_Tweet']).head(NUM_TOP_WORDS)\n",
    "print(top_20)\n",
    "top_20.plot.bar(rot=90, title=\"Top 20 words in tweets\");\n",
    "plt.show();"
   ]
  },
  {
   "cell_type": "markdown",
   "id": "42204c4f",
   "metadata": {},
   "source": [
    "# Plot 2 for Tweets Visualization"
   ]
  },
  {
   "cell_type": "markdown",
   "id": "c68c9131",
   "metadata": {},
   "source": [
    "## Gay-bar gram "
   ]
  },
  {
   "cell_type": "code",
   "execution_count": 33,
   "id": "dbadf29b",
   "metadata": {},
   "outputs": [
    {
     "name": "stdout",
     "output_type": "stream",
     "text": [
      "gay          3801\n",
      "singapore    3517\n",
      "rt           1492\n",
      "sex           884\n",
      "court         841\n",
      "man           622\n",
      "adopt         597\n",
      "lgbt          589\n",
      "son           484\n",
      "lesbian       444\n",
      "Name: clean_Tweet, dtype: int64\n"
     ]
    },
    {
     "data": {
      "image/png": "[encoded data removed]",
      "text/plain": [
       "<Figure size 432x288 with 1 Axes>"
      ]
     },
     "metadata": {
      "needs_background": "light"
     },
     "output_type": "display_data"
    }
   ],
   "source": [
    "tweets_gay = tweets_total.loc[tweets_total['clean_Tweet'].str.contains('gay', na=False)]\n",
    "\n",
    "NUM_TOP_WORDS = 10\n",
    "gay_top_10 = hero.visualization.top_words(tweets_gay.loc[:, 'clean_Tweet']).head(NUM_TOP_WORDS)\n",
    "print(gay_top_10)\n",
    "gay_top_10.plot.bar(rot=45, title=\"Top 10 words in gay\");\n",
    "plt.show();"
   ]
  },
  {
   "cell_type": "markdown",
   "id": "20d9ac47",
   "metadata": {},
   "source": [
    "## Lesbian-bar gram"
   ]
  },
  {
   "cell_type": "code",
   "execution_count": 35,
   "id": "996c1e7a",
   "metadata": {},
   "outputs": [
    {
     "name": "stdout",
     "output_type": "stream",
     "text": [
      "lesbian      2043\n",
      "singapore    1997\n",
      "cut           906\n",
      "rt            724\n",
      "sex           559\n",
      "kiss          529\n",
      "star          482\n",
      "wars          480\n",
      "scene         470\n",
      "gay           456\n",
      "Name: clean_Tweet, dtype: int64\n"
     ]
    },
    {
     "data": {
      "image/png": "[encoded data removed]",
      "text/plain": [
       "<Figure size 432x288 with 1 Axes>"
      ]
     },
     "metadata": {
      "needs_background": "light"
     },
     "output_type": "display_data"
    }
   ],
   "source": [
    "tweets_lesbian = tweets_total.loc[tweets_total['clean_Tweet'].str.contains('lesbian', na=False)]\n",
    "\n",
    "\n",
    "NUM_TOP_WORDS = 10\n",
    "lesbian_top_10 = hero.visualization.top_words(tweets_lesbian.loc[:, 'clean_Tweet']).head(NUM_TOP_WORDS)\n",
    "print(lesbian_top_10)\n",
    "lesbian_top_10.plot.bar(rot=45, title=\"Top 10 words in lesbian\");\n",
    "plt.show();"
   ]
  },
  {
   "cell_type": "markdown",
   "id": "90917531",
   "metadata": {},
   "source": [
    "## LGBT-bar gram"
   ]
  },
  {
   "cell_type": "code",
   "execution_count": 37,
   "id": "55e889d5",
   "metadata": {},
   "outputs": [
    {
     "name": "stdout",
     "output_type": "stream",
     "text": [
      "singapore    2642\n",
      "lgbt         2463\n",
      "rt           1161\n",
      "gay           686\n",
      "lgbtq         487\n",
      "community     363\n",
      "sex           362\n",
      "rights        295\n",
      "377a          289\n",
      "people        227\n",
      "Name: clean_Tweet, dtype: int64\n"
     ]
    },
    {
     "data": {
      "image/png": "[encoded data removed]",
      "text/plain": [
       "<Figure size 432x288 with 1 Axes>"
      ]
     },
     "metadata": {
      "needs_background": "light"
     },
     "output_type": "display_data"
    }
   ],
   "source": [
    "tweets_lgbt = tweets_total.loc[tweets_total['clean_Tweet'].str.contains('lgbt', na=False)]\n",
    "\n",
    "NUM_TOP_WORDS = 10\n",
    "lgbt_top_10 = hero.visualization.top_words(tweets_lgbt.loc[:, 'clean_Tweet']).head(NUM_TOP_WORDS)\n",
    "print(lgbt_top_10)\n",
    "lgbt_top_10.plot.bar(rot=45, title=\"Top 10 words in lgbt\");\n",
    "plt.show();"
   ]
  },
  {
   "cell_type": "markdown",
   "id": "600cd346",
   "metadata": {},
   "source": [
    "## 377A-bar gram"
   ]
  },
  {
   "cell_type": "code",
   "execution_count": 39,
   "id": "b7fcb5b8",
   "metadata": {},
   "outputs": [
    {
     "name": "stdout",
     "output_type": "stream",
     "text": [
      "cut          1173\n",
      "wars          845\n",
      "star          844\n",
      "singapore     832\n",
      "kiss          827\n",
      "rt            759\n",
      "lesbian       483\n",
      "scene         451\n",
      "china         435\n",
      "showings      426\n",
      "Name: clean_Tweet, dtype: int64\n"
     ]
    },
    {
     "data": {
      "image/png": "[encoded data removed]",
      "text/plain": [
       "<Figure size 432x288 with 1 Axes>"
      ]
     },
     "metadata": {
      "needs_background": "light"
     },
     "output_type": "display_data"
    }
   ],
   "source": [
    "tweets_377a = tweets_total.loc[tweets_total['clean_Tweet'].str.contains('wars', na=False)]\n",
    "\n",
    "NUM_TOP_WORDS = 10\n",
    "wars_top_10 = hero.visualization.top_words(tweets_377a.loc[:, 'clean_Tweet']).head(NUM_TOP_WORDS)\n",
    "print(wars_top_10)\n",
    "wars_top_10.plot.bar(rot=45, title=\"Top 10 words in 377a\");\n",
    "plt.show();"
   ]
  },
  {
   "cell_type": "code",
   "execution_count": null,
   "id": "232d0b13",
   "metadata": {},
   "outputs": [],
   "source": []
  }
 ],
 "metadata": {
  "kernelspec": {
   "display_name": "Python 3 (ipykernel)",
   "language": "python",
   "name": "python3"
  },
  "language_info": {
   "codemirror_mode": {
    "name": "ipython",
    "version": 3
   },
   "file_extension": ".py",
   "mimetype": "text/x-python",
   "name": "python",
   "nbconvert_exporter": "python",
   "pygments_lexer": "ipython3",
   "version": "3.8.8"
  }
 },
 "nbformat": 4,
 "nbformat_minor": 5
}
