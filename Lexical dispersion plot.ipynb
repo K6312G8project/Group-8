{
 "cells": [
  {
   "cell_type": "code",
   "execution_count": 295,
   "id": "4ad8be34",
   "metadata": {},
   "outputs": [],
   "source": [
    "# Pandas and numpy for data manipulation\n",
    "import pandas as pd\n",
    "import numpy as np\n",
    "np.random.seed(123)\n",
    "\n",
    "# Matplotlib and seaborn for plotting\n",
    "import matplotlib.pyplot as plt\n",
    "%matplotlib inline\n",
    "import matplotlib\n",
    "#matplotlib.rcParams['font.size'] = 8\n",
    "#matplotlib.rcParams['figure.figsize'] = (5, 5)\n",
    "\n",
    "import seaborn as sns #plot figures\n",
    "from IPython.core.pylabtools import figsize\n",
    "\n",
    "# Scipy helper functions\n",
    "import scipy #get statistics percentile\n",
    "from scipy.stats import percentileofscore\n",
    "from scipy import stats"
   ]
  },
  {
   "cell_type": "code",
   "execution_count": 296,
   "id": "8ce52830",
   "metadata": {},
   "outputs": [],
   "source": [
    "tweets_total = pd.read_csv('tweetstotal.csv',encoding= 'utf-8')"
   ]
  },
  {
   "cell_type": "code",
   "execution_count": 297,
   "id": "d5ec8851",
   "metadata": {},
   "outputs": [],
   "source": [
    "#tweets_total.head(5).append(tweets_total.tail(5))"
   ]
  },
  {
   "cell_type": "code",
   "execution_count": 298,
   "id": "0e94db7b",
   "metadata": {},
   "outputs": [],
   "source": [
    "tweets_total = tweets_total.drop(columns=['Unnamed: 0'])"
   ]
  },
  {
   "cell_type": "code",
   "execution_count": 299,
   "id": "8b1927a3",
   "metadata": {},
   "outputs": [],
   "source": [
    "#tweets_total.head(5).append(tweets_total.tail(5))"
   ]
  },
  {
   "cell_type": "code",
   "execution_count": 300,
   "id": "aa9ddb96",
   "metadata": {},
   "outputs": [
    {
     "name": "stdout",
     "output_type": "stream",
     "text": [
      "<class 'pandas.core.frame.DataFrame'>\n",
      "RangeIndex: 10907 entries, 0 to 10906\n",
      "Data columns (total 3 columns):\n",
      " #   Column     Non-Null Count  Dtype \n",
      "---  ------     --------------  ----- \n",
      " 0   Time       10907 non-null  object\n",
      " 1   Author ID  10907 non-null  int64 \n",
      " 2   Tweet      10907 non-null  object\n",
      "dtypes: int64(1), object(2)\n",
      "memory usage: 255.8+ KB\n"
     ]
    }
   ],
   "source": [
    "tweets_total.info()"
   ]
  },
  {
   "cell_type": "code",
   "execution_count": 301,
   "id": "412fea5b",
   "metadata": {},
   "outputs": [
    {
     "data": {
      "text/plain": [
       "0        False\n",
       "1        False\n",
       "2        False\n",
       "3        False\n",
       "4        False\n",
       "         ...  \n",
       "10902     True\n",
       "10903    False\n",
       "10904    False\n",
       "10905    False\n",
       "10906    False\n",
       "Length: 10907, dtype: bool"
      ]
     },
     "execution_count": 301,
     "metadata": {},
     "output_type": "execute_result"
    }
   ],
   "source": [
    "tweets_total.duplicated()"
   ]
  },
  {
   "cell_type": "code",
   "execution_count": 302,
   "id": "7fd915c0",
   "metadata": {},
   "outputs": [
    {
     "data": {
      "text/html": [
       "<div>\n",
       "<style scoped>\n",
       "    .dataframe tbody tr th:only-of-type {\n",
       "        vertical-align: middle;\n",
       "    }\n",
       "\n",
       "    .dataframe tbody tr th {\n",
       "        vertical-align: top;\n",
       "    }\n",
       "\n",
       "    .dataframe thead th {\n",
       "        text-align: right;\n",
       "    }\n",
       "</style>\n",
       "<table border=\"1\" class=\"dataframe\">\n",
       "  <thead>\n",
       "    <tr style=\"text-align: right;\">\n",
       "      <th></th>\n",
       "      <th>Time</th>\n",
       "      <th>Author ID</th>\n",
       "      <th>Tweet</th>\n",
       "    </tr>\n",
       "  </thead>\n",
       "  <tbody>\n",
       "    <tr>\n",
       "      <th>563</th>\n",
       "      <td>2017-12-12 13:10:53+00:00</td>\n",
       "      <td>386815282</td>\n",
       "      <td>RT @goproudout: In Singapore, it’s time to cha...</td>\n",
       "    </tr>\n",
       "    <tr>\n",
       "      <th>564</th>\n",
       "      <td>2017-12-12 13:00:32+00:00</td>\n",
       "      <td>3128624681</td>\n",
       "      <td>In Singapore, it’s time to change closed minds...</td>\n",
       "    </tr>\n",
       "    <tr>\n",
       "      <th>719</th>\n",
       "      <td>2017-10-08 08:46:03+00:00</td>\n",
       "      <td>908961631991767040</td>\n",
       "      <td>https://t.co/NIrmGVj5hB</td>\n",
       "    </tr>\n",
       "    <tr>\n",
       "      <th>1003</th>\n",
       "      <td>2017-12-29 16:30:57+00:00</td>\n",
       "      <td>963496597</td>\n",
       "      <td>Gay man in #Singapore blocked from adopting hi...</td>\n",
       "    </tr>\n",
       "    <tr>\n",
       "      <th>1010</th>\n",
       "      <td>2017-12-29 15:08:50+00:00</td>\n",
       "      <td>2823017921</td>\n",
       "      <td>RT @Dyke67ny: Court rejects gay Singapore man'...</td>\n",
       "    </tr>\n",
       "  </tbody>\n",
       "</table>\n",
       "</div>"
      ],
      "text/plain": [
       "                           Time           Author ID  \\\n",
       "563   2017-12-12 13:10:53+00:00           386815282   \n",
       "564   2017-12-12 13:00:32+00:00          3128624681   \n",
       "719   2017-10-08 08:46:03+00:00  908961631991767040   \n",
       "1003  2017-12-29 16:30:57+00:00           963496597   \n",
       "1010  2017-12-29 15:08:50+00:00          2823017921   \n",
       "\n",
       "                                                  Tweet  \n",
       "563   RT @goproudout: In Singapore, it’s time to cha...  \n",
       "564   In Singapore, it’s time to change closed minds...  \n",
       "719                             https://t.co/NIrmGVj5hB  \n",
       "1003  Gay man in #Singapore blocked from adopting hi...  \n",
       "1010  RT @Dyke67ny: Court rejects gay Singapore man'...  "
      ]
     },
     "execution_count": 302,
     "metadata": {},
     "output_type": "execute_result"
    }
   ],
   "source": [
    "tweets_total[tweets_total.duplicated()].head(5)"
   ]
  },
  {
   "cell_type": "code",
   "execution_count": 303,
   "id": "4a97e2d7",
   "metadata": {},
   "outputs": [],
   "source": [
    "tweets_total = tweets_total.drop_duplicates()"
   ]
  },
  {
   "cell_type": "code",
   "execution_count": 304,
   "id": "ba26b70b",
   "metadata": {},
   "outputs": [
    {
     "data": {
      "text/html": [
       "<div>\n",
       "<style scoped>\n",
       "    .dataframe tbody tr th:only-of-type {\n",
       "        vertical-align: middle;\n",
       "    }\n",
       "\n",
       "    .dataframe tbody tr th {\n",
       "        vertical-align: top;\n",
       "    }\n",
       "\n",
       "    .dataframe thead th {\n",
       "        text-align: right;\n",
       "    }\n",
       "</style>\n",
       "<table border=\"1\" class=\"dataframe\">\n",
       "  <thead>\n",
       "    <tr style=\"text-align: right;\">\n",
       "      <th></th>\n",
       "      <th>Time</th>\n",
       "      <th>Author ID</th>\n",
       "      <th>Tweet</th>\n",
       "    </tr>\n",
       "  </thead>\n",
       "  <tbody>\n",
       "  </tbody>\n",
       "</table>\n",
       "</div>"
      ],
      "text/plain": [
       "Empty DataFrame\n",
       "Columns: [Time, Author ID, Tweet]\n",
       "Index: []"
      ]
     },
     "execution_count": 304,
     "metadata": {},
     "output_type": "execute_result"
    }
   ],
   "source": [
    "tweets_total[tweets_total.duplicated()]"
   ]
  },
  {
   "cell_type": "code",
   "execution_count": 305,
   "id": "130f21d4",
   "metadata": {
    "scrolled": false
   },
   "outputs": [
    {
     "data": {
      "text/html": [
       "<div>\n",
       "<style scoped>\n",
       "    .dataframe tbody tr th:only-of-type {\n",
       "        vertical-align: middle;\n",
       "    }\n",
       "\n",
       "    .dataframe tbody tr th {\n",
       "        vertical-align: top;\n",
       "    }\n",
       "\n",
       "    .dataframe thead th {\n",
       "        text-align: right;\n",
       "    }\n",
       "</style>\n",
       "<table border=\"1\" class=\"dataframe\">\n",
       "  <thead>\n",
       "    <tr style=\"text-align: right;\">\n",
       "      <th></th>\n",
       "      <th>Time</th>\n",
       "      <th>Author ID</th>\n",
       "      <th>Tweet</th>\n",
       "      <th>Date</th>\n",
       "    </tr>\n",
       "  </thead>\n",
       "  <tbody>\n",
       "    <tr>\n",
       "      <th>0</th>\n",
       "      <td>2017-12-12 13:10:53+00:00</td>\n",
       "      <td>386815282</td>\n",
       "      <td>RT @goproudout: In Singapore, it’s time to cha...</td>\n",
       "      <td>2017-12-12</td>\n",
       "    </tr>\n",
       "    <tr>\n",
       "      <th>1</th>\n",
       "      <td>2017-12-12 13:00:32+00:00</td>\n",
       "      <td>3128624681</td>\n",
       "      <td>In Singapore, it’s time to change closed minds...</td>\n",
       "      <td>2017-12-12</td>\n",
       "    </tr>\n",
       "    <tr>\n",
       "      <th>2</th>\n",
       "      <td>2017-11-29 16:48:02+00:00</td>\n",
       "      <td>820846679398051840</td>\n",
       "      <td>Singapore’s gay circle has way too many #metoo...</td>\n",
       "      <td>2017-11-29</td>\n",
       "    </tr>\n",
       "    <tr>\n",
       "      <th>3</th>\n",
       "      <td>2017-11-04 13:32:18+00:00</td>\n",
       "      <td>905756070202576896</td>\n",
       "      <td>disclaimer i know nothing abt johnten but. the...</td>\n",
       "      <td>2017-11-04</td>\n",
       "    </tr>\n",
       "    <tr>\n",
       "      <th>4</th>\n",
       "      <td>2017-10-08 08:46:03+00:00</td>\n",
       "      <td>908961631991767040</td>\n",
       "      <td>https://t.co/NIrmGVj5hB</td>\n",
       "      <td>2017-10-08</td>\n",
       "    </tr>\n",
       "    <tr>\n",
       "      <th>10901</th>\n",
       "      <td>2022-02-28 11:59:03+00:00</td>\n",
       "      <td>27987687</td>\n",
       "      <td>Singapore court refuses to overturn archaic ga...</td>\n",
       "      <td>2022-02-28</td>\n",
       "    </tr>\n",
       "    <tr>\n",
       "      <th>10903</th>\n",
       "      <td>2022-02-28 11:48:30+00:00</td>\n",
       "      <td>3158178364</td>\n",
       "      <td>RT @HumanDignityT: BREAKING: Partial victory a...</td>\n",
       "      <td>2022-02-28</td>\n",
       "    </tr>\n",
       "    <tr>\n",
       "      <th>10904</th>\n",
       "      <td>2022-02-28 11:32:08+00:00</td>\n",
       "      <td>23029296</td>\n",
       "      <td>RT @afa_singapore: AfA Singapore is deeply dis...</td>\n",
       "      <td>2022-02-28</td>\n",
       "    </tr>\n",
       "    <tr>\n",
       "      <th>10905</th>\n",
       "      <td>2022-02-28 11:31:03+00:00</td>\n",
       "      <td>881337963505868800</td>\n",
       "      <td>RT @kixes: The conclusion from #Singapore’s Co...</td>\n",
       "      <td>2022-02-28</td>\n",
       "    </tr>\n",
       "    <tr>\n",
       "      <th>10906</th>\n",
       "      <td>2022-02-28 11:27:03+00:00</td>\n",
       "      <td>16922687</td>\n",
       "      <td>RT @raynerkjtan: Today, the Singapore Court of...</td>\n",
       "      <td>2022-02-28</td>\n",
       "    </tr>\n",
       "  </tbody>\n",
       "</table>\n",
       "</div>"
      ],
      "text/plain": [
       "                            Time           Author ID  \\\n",
       "0      2017-12-12 13:10:53+00:00           386815282   \n",
       "1      2017-12-12 13:00:32+00:00          3128624681   \n",
       "2      2017-11-29 16:48:02+00:00  820846679398051840   \n",
       "3      2017-11-04 13:32:18+00:00  905756070202576896   \n",
       "4      2017-10-08 08:46:03+00:00  908961631991767040   \n",
       "10901  2022-02-28 11:59:03+00:00            27987687   \n",
       "10903  2022-02-28 11:48:30+00:00          3158178364   \n",
       "10904  2022-02-28 11:32:08+00:00            23029296   \n",
       "10905  2022-02-28 11:31:03+00:00  881337963505868800   \n",
       "10906  2022-02-28 11:27:03+00:00            16922687   \n",
       "\n",
       "                                                   Tweet       Date  \n",
       "0      RT @goproudout: In Singapore, it’s time to cha... 2017-12-12  \n",
       "1      In Singapore, it’s time to change closed minds... 2017-12-12  \n",
       "2      Singapore’s gay circle has way too many #metoo... 2017-11-29  \n",
       "3      disclaimer i know nothing abt johnten but. the... 2017-11-04  \n",
       "4                                https://t.co/NIrmGVj5hB 2017-10-08  \n",
       "10901  Singapore court refuses to overturn archaic ga... 2022-02-28  \n",
       "10903  RT @HumanDignityT: BREAKING: Partial victory a... 2022-02-28  \n",
       "10904  RT @afa_singapore: AfA Singapore is deeply dis... 2022-02-28  \n",
       "10905  RT @kixes: The conclusion from #Singapore’s Co... 2022-02-28  \n",
       "10906  RT @raynerkjtan: Today, the Singapore Court of... 2022-02-28  "
      ]
     },
     "execution_count": 305,
     "metadata": {},
     "output_type": "execute_result"
    }
   ],
   "source": [
    "tweets_total['Date'] = tweets_total['Time'].map(lambda x:x.split(' ')[0])\n",
    "#tweets_total['Time_1'] = tweets_total['Time'].map(lambda x:x.split(' ')[1])\n",
    "\n",
    "tweets_total['Date'] = pd.to_datetime(tweets_total['Date'])\n",
    "\n",
    "#tweets_total.set_index('Date',inplace=True)\n",
    "\n",
    "#tweets_total['Year'] = tweets_total.index.year\n",
    "#tweets_total['Month'] = tweets_total.index.month\n",
    "#tweets_total['Weekday'] = tweets_total.index.weekday\n",
    "\n",
    "\n",
    "tweets_total.head(5).append(tweets_total.tail(5))"
   ]
  },
  {
   "cell_type": "code",
   "execution_count": 306,
   "id": "048c3800",
   "metadata": {},
   "outputs": [],
   "source": [
    "#print('2017',tweets_total.loc['2017']['Month'].value_counts().sort_index())\n",
    "#print('2018',tweets_total.loc['2018']['Month'].value_counts().sort_index())\n",
    "#print('2019',tweets_total.loc['2019']['Month'].value_counts().sort_index())\n",
    "#print('2020',tweets_total.loc['2020']['Month'].value_counts().sort_index())\n",
    "#print('2021',tweets_total.loc['2021']['Month'].value_counts().sort_index())\n",
    "#print('2022',tweets_total.loc['2022']['Month'].value_counts().sort_index())\n"
   ]
  },
  {
   "cell_type": "code",
   "execution_count": 307,
   "id": "67a66a4e",
   "metadata": {},
   "outputs": [],
   "source": [
    "#tweets_total.info()"
   ]
  },
  {
   "cell_type": "markdown",
   "id": "7c49e596",
   "metadata": {},
   "source": [
    "Select Data"
   ]
  },
  {
   "cell_type": "markdown",
   "id": "34b3717f",
   "metadata": {},
   "source": [
    "# Text preprocessing"
   ]
  },
  {
   "cell_type": "code",
   "execution_count": 308,
   "id": "2d2b550f",
   "metadata": {},
   "outputs": [],
   "source": [
    "# clean the news content by using clean method from hero package\n",
    "import texthero as hero"
   ]
  },
  {
   "cell_type": "code",
   "execution_count": 309,
   "id": "4795ef69",
   "metadata": {},
   "outputs": [],
   "source": [
    "#create custom pipeline\n",
    "custom_pipeline = [hero.preprocessing.fillna,\n",
    "                   hero.preprocessing.lowercase,\n",
    "                   hero.preprocessing.remove_whitespace,\n",
    "                   hero.preprocessing.remove_urls,\n",
    "                   hero.preprocessing.remove_stopwords,\n",
    "                   hero.preprocessing.remove_punctuation,\n",
    "                   hero.preprocessing.remove_diacritics,\n",
    "                   hero.preprocessing.remove_digits\n",
    "                   ]\n",
    "\n",
    "tweets_total['clean_Tweet'] = tweets_total['Tweet'].pipe(hero.clean, custom_pipeline)"
   ]
  },
  {
   "cell_type": "code",
   "execution_count": 310,
   "id": "d64f1124",
   "metadata": {},
   "outputs": [],
   "source": [
    "#tweets_total['clean_Tweet'] = hero.remove_urls(tweets_total['Tweet'])\n",
    "#tweets_total.iloc[0].clean_Tweet"
   ]
  },
  {
   "cell_type": "code",
   "execution_count": 311,
   "id": "d3875628",
   "metadata": {},
   "outputs": [],
   "source": [
    "# clean the Tweet by using clean method from hero package\n",
    "#tweets_total['clean_Tweet'] = hero.clean(tweets_total['clean_Tweet'])"
   ]
  },
  {
   "cell_type": "code",
   "execution_count": 312,
   "id": "3d3a7a70",
   "metadata": {},
   "outputs": [],
   "source": [
    "#show unclean and clean Tweet\n",
    "\n",
    "#tweets_total[['Tweet','clean_Tweet']].head(5)"
   ]
  },
  {
   "cell_type": "code",
   "execution_count": 313,
   "id": "1036dc5d",
   "metadata": {},
   "outputs": [],
   "source": [
    "#tweets_total.iloc[:].Tweet  #unclean tweets"
   ]
  },
  {
   "cell_type": "code",
   "execution_count": 314,
   "id": "2a3fb880",
   "metadata": {},
   "outputs": [],
   "source": [
    "#tweets_total.iloc[:].clean_Tweet #clean tweets"
   ]
  },
  {
   "cell_type": "code",
   "execution_count": 315,
   "id": "e0572088",
   "metadata": {},
   "outputs": [],
   "source": [
    "tweets_total.to_csv('tweetstotal_clean.csv')"
   ]
  },
  {
   "cell_type": "markdown",
   "id": "bb58429f",
   "metadata": {},
   "source": [
    "# Visualization"
   ]
  },
  {
   "cell_type": "markdown",
   "id": "b13b2ff7",
   "metadata": {},
   "source": [
    "# Wordclouds"
   ]
  },
  {
   "cell_type": "code",
   "execution_count": 316,
   "id": "3a057b05",
   "metadata": {
    "scrolled": true
   },
   "outputs": [],
   "source": [
    "#Plot wordcloud image using WordCloud method\n",
    "#hero.wordcloud(tweets_total.loc[:, 'clean_Tweet'], max_words=80)"
   ]
  },
  {
   "cell_type": "markdown",
   "id": "8b5ab914",
   "metadata": {},
   "source": [
    "### hero.wordcloud(tweets_gay.loc[:, 'clean_Tweet'], max_words=80)"
   ]
  },
  {
   "cell_type": "code",
   "execution_count": 317,
   "id": "d6973d2f",
   "metadata": {},
   "outputs": [],
   "source": [
    "#hero.wordcloud(tweets_lgbt.loc[:, 'clean_Tweet'], max_words=80)"
   ]
  },
  {
   "cell_type": "code",
   "execution_count": 318,
   "id": "a767c873",
   "metadata": {},
   "outputs": [],
   "source": [
    "#hero.wordcloud(tweets_lesbian.loc[:, 'clean_Tweet'], max_words=80)"
   ]
  },
  {
   "cell_type": "code",
   "execution_count": 319,
   "id": "3e16e233",
   "metadata": {},
   "outputs": [],
   "source": [
    "#hero.wordcloud(tweets_377a.loc[:, 'clean_Tweet'], max_words=80)"
   ]
  },
  {
   "cell_type": "code",
   "execution_count": 320,
   "id": "01ff2357",
   "metadata": {},
   "outputs": [],
   "source": [
    "#conda install -c districtdatalabs yellowbrick"
   ]
  },
  {
   "cell_type": "code",
   "execution_count": 321,
   "id": "7fceeec3",
   "metadata": {},
   "outputs": [],
   "source": [
    "#from yellowbrick.text import DispersionPlot\n",
    "#from yellowbrick.datasets import load_hobbies\n",
    "\n",
    "# Load the text data\n",
    "#tweets_total = load_hobbies()\n",
    "\n",
    "# Create a list of words from the corpus text\n",
    "#text = [doc.split() for doc in tweets_total.data]\n",
    "\n",
    "# Choose words whose occurence in the text will be plotted\n",
    "#target_words = ['singapore','gay','lgbt','lesbian','sex','377a','wars','pinkdot']\n",
    "\n",
    "# Create the visualizer and draw the plot\n",
    "#visualizer = DispersionPlot(target_words)\n",
    "#visualizer.fit(tweets_total)\n",
    "#visualizer.show()"
   ]
  },
  {
   "cell_type": "code",
   "execution_count": 322,
   "id": "12289f44",
   "metadata": {},
   "outputs": [
    {
     "data": {
      "text/plain": [
       "True     9711\n",
       "False     491\n",
       "Name: top_words_pres, dtype: int64"
      ]
     },
     "execution_count": 322,
     "metadata": {},
     "output_type": "execute_result"
    }
   ],
   "source": [
    "#creat a series for regex scarch via clean_Tweet\n",
    "top_words = '|'.join(('singapore','gay','lgbt','lesbian','sex','377a','wars','pinkdot'))\n",
    "\n",
    "tweets_total['top_words_pres'] = tweets_total['clean_Tweet'].str.contains(top_words)\n",
    "tweets_total.top_words_pres.value_counts()"
   ]
  },
  {
   "cell_type": "code",
   "execution_count": 323,
   "id": "e73b7c6b",
   "metadata": {},
   "outputs": [],
   "source": [
    "#tweets_total.head(5).append(tweets_total.tail(5))"
   ]
  },
  {
   "cell_type": "code",
   "execution_count": 324,
   "id": "38a78cd1",
   "metadata": {},
   "outputs": [
    {
     "data": {
      "text/plain": [
       "singapore    4250\n",
       "gay          1469\n",
       "lgbt         1061\n",
       "377a          805\n",
       "wars          751\n",
       "lesbian       610\n",
       "pinkdot       334\n",
       "sex           263\n",
       "Name: top_words_list, dtype: int64"
      ]
     },
     "execution_count": 324,
     "metadata": {},
     "output_type": "execute_result"
    }
   ],
   "source": [
    "import string\n",
    "\n",
    "#creat a list of top words\n",
    "top_words = ['singapore','gay','lgbt','lesbian','sex','377a','wars','pinkdot']\n",
    "punctuation = ',?!.\\/#@\"><[]'\n",
    "\n",
    "def top_words_finder(x):\n",
    "    list_of_words = x.split(' ')\n",
    "    out_data = []\n",
    "    for word in list_of_words:\n",
    "        word = word.lower()\n",
    "        if word.strip(punctuation) in top_words:\n",
    "            return word.strip(punctuation)\n",
    "        else:\n",
    "            pass\n",
    "\n",
    "tweets_total['top_words_list'] = tweets_total['clean_Tweet'].apply(top_words_finder)\n",
    "tweets_total.top_words_list.value_counts()"
   ]
  },
  {
   "cell_type": "code",
   "execution_count": 325,
   "id": "efeb9510",
   "metadata": {},
   "outputs": [
    {
     "name": "stdout",
     "output_type": "stream",
     "text": [
      "<class 'pandas.core.frame.DataFrame'>\n",
      "Int64Index: 10202 entries, 0 to 10906\n",
      "Data columns (total 8 columns):\n",
      " #   Column          Non-Null Count  Dtype  \n",
      "---  ------          --------------  -----  \n",
      " 0   Time            10202 non-null  object \n",
      " 1   Author ID       10202 non-null  int64  \n",
      " 2   Tweet           10202 non-null  object \n",
      " 3   Date            10202 non-null  float64\n",
      " 4   clean_Tweet     10202 non-null  object \n",
      " 5   top_words_pres  10202 non-null  bool   \n",
      " 6   top_words_list  9543 non-null   object \n",
      " 7   Date_1          10202 non-null  float64\n",
      "dtypes: bool(1), float64(2), int64(1), object(4)\n",
      "memory usage: 647.6+ KB\n"
     ]
    }
   ],
   "source": [
    "from matplotlib.pylab import date2num\n",
    "tweets_total['Date'] = date2num(tweets_total['Date'])\n",
    "#Convert to default dateformat\n",
    "tweets_total['Time_1'] = pd.to_datetime(tweets_total['Time'])\n",
    "#Drop None value, in case of error \n",
    "tweets_total = tweets_total.dropna(subset=['top_words_list'])\n",
    "#Sort by date\n",
    "tweets_total = tweets_total.sort_values(by = \"Time_1\")\n",
    "#tweets_total['Date'] = tweets_total['Date'].apply(lambda x: x.value)\n",
    "\n",
    "tweets_total.info()\n",
    "#df['time'] = df['time'].apply(lambda x: x.value)\n",
    "tweets_total"
   ]
  },
  {
   "cell_type": "code",
   "execution_count": 361,
   "id": "eb79f013",
   "metadata": {},
   "outputs": [
    {
     "data": {
      "image/png": "[encoded data removed]",
      "text/plain": [
       "<Figure size 1584x576 with 1 Axes>"
      ]
     },
     "metadata": {
      "needs_background": "light"
     },
     "output_type": "display_data"
    }
   ],
   "source": [
    "import seaborn as sns\n",
    "import matplotlib.ticker as ticker\n",
    "\n",
    "plt.figure(figsize = (22,8))\n",
    "\n",
    "ax = sns.stripplot(x='Time_1', y='top_words_list', data=tweets_total,\n",
    "             size=10,marker='D',edgecolor='gray',alpha=.50)\n",
    "\n",
    "#x = [1,2,3,4,5,6]\n",
    "#labels =  ['2017','2018','2019','2020','2021','2022']\n",
    "\n",
    "ax.xaxis.set_major_locator(ticker.AutoLocator())\n",
    "ax.xaxis.set_minor_locator(ticker.AutoMinorLocator())\n",
    "\n",
    "#plt.xticks(x, labels, rotation=45)\n",
    "#plt.xticks(rotation=90)\n",
    "plt.xticks(rotation=45)\n",
    "plt.xlabel('Time',fontsize=12); \n",
    "plt.ylabel('Top Words List',fontsize=12); \n",
    "plt.title('Lexical dispersion plot',fontsize=15);\n",
    "\n"
   ]
  },
  {
   "cell_type": "code",
   "execution_count": 40,
   "id": "cce5508d",
   "metadata": {},
   "outputs": [],
   "source": [
    "#tweets_total.head(5).append(tweets_total.tail(5))"
   ]
  },
  {
   "cell_type": "markdown",
   "id": "caa0a620",
   "metadata": {},
   "source": [
    "# Model Building"
   ]
  }
 ],
 "metadata": {
  "kernelspec": {
   "display_name": "Python 3 (ipykernel)",
   "language": "python",
   "name": "python3"
  },
  "language_info": {
   "codemirror_mode": {
    "name": "ipython",
    "version": 3
   },
   "file_extension": ".py",
   "mimetype": "text/x-python",
   "name": "python",
   "nbconvert_exporter": "python",
   "pygments_lexer": "ipython3",
   "version": "3.8.8"
  }
 },
 "nbformat": 4,
 "nbformat_minor": 5
}
