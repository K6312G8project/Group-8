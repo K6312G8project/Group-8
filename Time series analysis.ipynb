{
 "cells": [
  {
   "cell_type": "code",
   "execution_count": 1,
   "id": "dac812e1",
   "metadata": {},
   "outputs": [],
   "source": [
    "import pandas as pd\n",
    "import numpy as np\n",
    "import matplotlib.pyplot as plt\n",
    "import seaborn as sns; sns.set()\n",
    "%matplotlib inline"
   ]
  },
  {
   "cell_type": "code",
   "execution_count": 2,
   "id": "976214ec",
   "metadata": {},
   "outputs": [],
   "source": [
    "tweet_df = pd.read_csv('tweetstotal_clean.csv',encoding= 'utf-8')\n",
    "tweet_df['Date'] = pd.to_datetime(tweet_df['Date'])\n",
    "tweet_df.set_index('Date', inplace=True)"
   ]
  },
  {
   "cell_type": "markdown",
   "id": "02228be4",
   "metadata": {},
   "source": [
    "### Data cleaning of 2020-2022"
   ]
  },
  {
   "cell_type": "code",
   "execution_count": 3,
   "id": "08082bd7",
   "metadata": {},
   "outputs": [],
   "source": [
    "df2020 = pd.read_csv('tweets2020.csv',encoding= 'utf-8')"
   ]
  },
  {
   "cell_type": "code",
   "execution_count": 4,
   "id": "ca17ab10",
   "metadata": {},
   "outputs": [],
   "source": [
    "df2021 = pd.read_csv('tweets2021.csv',encoding= 'utf-8')"
   ]
  },
  {
   "cell_type": "code",
   "execution_count": 5,
   "id": "87185982",
   "metadata": {},
   "outputs": [],
   "source": [
    "df2022 = pd.read_csv('tweets2022.csv',encoding= 'utf-8')"
   ]
  },
  {
   "cell_type": "code",
   "execution_count": 6,
   "id": "695d9e8a",
   "metadata": {},
   "outputs": [
    {
     "name": "stderr",
     "output_type": "stream",
     "text": [
      "/var/folders/qc/s8jdkyqj7zd15w9r6vrffpsm0000gn/T/ipykernel_2379/747152622.py:1: FutureWarning: The frame.append method is deprecated and will be removed from pandas in a future version. Use pandas.concat instead.\n",
      "  df_3y = df2020.append(df2021).append(df2022)\n"
     ]
    },
    {
     "data": {
      "text/html": [
       "<div>\n",
       "<style scoped>\n",
       "    .dataframe tbody tr th:only-of-type {\n",
       "        vertical-align: middle;\n",
       "    }\n",
       "\n",
       "    .dataframe tbody tr th {\n",
       "        vertical-align: top;\n",
       "    }\n",
       "\n",
       "    .dataframe thead th {\n",
       "        text-align: right;\n",
       "    }\n",
       "</style>\n",
       "<table border=\"1\" class=\"dataframe\">\n",
       "  <thead>\n",
       "    <tr style=\"text-align: right;\">\n",
       "      <th></th>\n",
       "      <th>Unnamed: 0</th>\n",
       "      <th>Time</th>\n",
       "      <th>Author ID</th>\n",
       "      <th>Tweet</th>\n",
       "    </tr>\n",
       "  </thead>\n",
       "  <tbody>\n",
       "    <tr>\n",
       "      <th>0</th>\n",
       "      <td>0</td>\n",
       "      <td>2020-11-29 17:31:54+00:00</td>\n",
       "      <td>138784917</td>\n",
       "      <td>RT because while I'm not gay this happens in S...</td>\n",
       "    </tr>\n",
       "    <tr>\n",
       "      <th>1</th>\n",
       "      <td>1</td>\n",
       "      <td>2020-09-17 15:30:33+00:00</td>\n",
       "      <td>752273484</td>\n",
       "      <td>RT @pauriahcarey: The homophobes over at We Ar...</td>\n",
       "    </tr>\n",
       "    <tr>\n",
       "      <th>2</th>\n",
       "      <td>2</td>\n",
       "      <td>2020-09-17 06:55:01+00:00</td>\n",
       "      <td>322378987</td>\n",
       "      <td>RT @pauriahcarey: The homophobes over at We Ar...</td>\n",
       "    </tr>\n",
       "    <tr>\n",
       "      <th>3</th>\n",
       "      <td>3</td>\n",
       "      <td>2020-09-17 00:54:36+00:00</td>\n",
       "      <td>2791195074</td>\n",
       "      <td>RT @pauriahcarey: The homophobes over at We Ar...</td>\n",
       "    </tr>\n",
       "    <tr>\n",
       "      <th>4</th>\n",
       "      <td>4</td>\n",
       "      <td>2020-09-16 22:42:13+00:00</td>\n",
       "      <td>96694094</td>\n",
       "      <td>RT @pauriahcarey: The homophobes over at We Ar...</td>\n",
       "    </tr>\n",
       "  </tbody>\n",
       "</table>\n",
       "</div>"
      ],
      "text/plain": [
       "   Unnamed: 0                       Time   Author ID  \\\n",
       "0           0  2020-11-29 17:31:54+00:00   138784917   \n",
       "1           1  2020-09-17 15:30:33+00:00   752273484   \n",
       "2           2  2020-09-17 06:55:01+00:00   322378987   \n",
       "3           3  2020-09-17 00:54:36+00:00  2791195074   \n",
       "4           4  2020-09-16 22:42:13+00:00    96694094   \n",
       "\n",
       "                                               Tweet  \n",
       "0  RT because while I'm not gay this happens in S...  \n",
       "1  RT @pauriahcarey: The homophobes over at We Ar...  \n",
       "2  RT @pauriahcarey: The homophobes over at We Ar...  \n",
       "3  RT @pauriahcarey: The homophobes over at We Ar...  \n",
       "4  RT @pauriahcarey: The homophobes over at We Ar...  "
      ]
     },
     "execution_count": 6,
     "metadata": {},
     "output_type": "execute_result"
    }
   ],
   "source": [
    "df_3y = df2020.append(df2021).append(df2022)\n",
    "df_3y.head(5)"
   ]
  },
  {
   "cell_type": "code",
   "execution_count": 7,
   "id": "51d8214e",
   "metadata": {},
   "outputs": [
    {
     "data": {
      "text/html": [
       "<div>\n",
       "<style scoped>\n",
       "    .dataframe tbody tr th:only-of-type {\n",
       "        vertical-align: middle;\n",
       "    }\n",
       "\n",
       "    .dataframe tbody tr th {\n",
       "        vertical-align: top;\n",
       "    }\n",
       "\n",
       "    .dataframe thead th {\n",
       "        text-align: right;\n",
       "    }\n",
       "</style>\n",
       "<table border=\"1\" class=\"dataframe\">\n",
       "  <thead>\n",
       "    <tr style=\"text-align: right;\">\n",
       "      <th></th>\n",
       "      <th>Time</th>\n",
       "      <th>Author ID</th>\n",
       "      <th>Tweet</th>\n",
       "    </tr>\n",
       "  </thead>\n",
       "  <tbody>\n",
       "    <tr>\n",
       "      <th>0</th>\n",
       "      <td>2020-11-29 17:31:54+00:00</td>\n",
       "      <td>138784917</td>\n",
       "      <td>RT because while I'm not gay this happens in S...</td>\n",
       "    </tr>\n",
       "    <tr>\n",
       "      <th>1</th>\n",
       "      <td>2020-09-17 15:30:33+00:00</td>\n",
       "      <td>752273484</td>\n",
       "      <td>RT @pauriahcarey: The homophobes over at We Ar...</td>\n",
       "    </tr>\n",
       "    <tr>\n",
       "      <th>2</th>\n",
       "      <td>2020-09-17 06:55:01+00:00</td>\n",
       "      <td>322378987</td>\n",
       "      <td>RT @pauriahcarey: The homophobes over at We Ar...</td>\n",
       "    </tr>\n",
       "    <tr>\n",
       "      <th>3</th>\n",
       "      <td>2020-09-17 00:54:36+00:00</td>\n",
       "      <td>2791195074</td>\n",
       "      <td>RT @pauriahcarey: The homophobes over at We Ar...</td>\n",
       "    </tr>\n",
       "    <tr>\n",
       "      <th>4</th>\n",
       "      <td>2020-09-16 22:42:13+00:00</td>\n",
       "      <td>96694094</td>\n",
       "      <td>RT @pauriahcarey: The homophobes over at We Ar...</td>\n",
       "    </tr>\n",
       "  </tbody>\n",
       "</table>\n",
       "</div>"
      ],
      "text/plain": [
       "                        Time   Author ID  \\\n",
       "0  2020-11-29 17:31:54+00:00   138784917   \n",
       "1  2020-09-17 15:30:33+00:00   752273484   \n",
       "2  2020-09-17 06:55:01+00:00   322378987   \n",
       "3  2020-09-17 00:54:36+00:00  2791195074   \n",
       "4  2020-09-16 22:42:13+00:00    96694094   \n",
       "\n",
       "                                               Tweet  \n",
       "0  RT because while I'm not gay this happens in S...  \n",
       "1  RT @pauriahcarey: The homophobes over at We Ar...  \n",
       "2  RT @pauriahcarey: The homophobes over at We Ar...  \n",
       "3  RT @pauriahcarey: The homophobes over at We Ar...  \n",
       "4  RT @pauriahcarey: The homophobes over at We Ar...  "
      ]
     },
     "execution_count": 7,
     "metadata": {},
     "output_type": "execute_result"
    }
   ],
   "source": [
    "df_3y = df_3y.drop(columns=['Unnamed: 0'])\n",
    "df_3y.head(5)"
   ]
  },
  {
   "cell_type": "code",
   "execution_count": 8,
   "id": "d18cc30e",
   "metadata": {},
   "outputs": [
    {
     "data": {
      "text/plain": [
       "0       False\n",
       "1       False\n",
       "2       False\n",
       "3       False\n",
       "4       False\n",
       "        ...  \n",
       "1567     True\n",
       "1568    False\n",
       "1569    False\n",
       "1570    False\n",
       "1571    False\n",
       "Length: 4644, dtype: bool"
      ]
     },
     "execution_count": 8,
     "metadata": {},
     "output_type": "execute_result"
    }
   ],
   "source": [
    "df_3y.duplicated()"
   ]
  },
  {
   "cell_type": "code",
   "execution_count": 9,
   "id": "592349ee",
   "metadata": {},
   "outputs": [],
   "source": [
    "df_3y = df_3y.drop_duplicates()"
   ]
  },
  {
   "cell_type": "code",
   "execution_count": 10,
   "id": "f217f751",
   "metadata": {},
   "outputs": [
    {
     "data": {
      "text/html": [
       "<div>\n",
       "<style scoped>\n",
       "    .dataframe tbody tr th:only-of-type {\n",
       "        vertical-align: middle;\n",
       "    }\n",
       "\n",
       "    .dataframe tbody tr th {\n",
       "        vertical-align: top;\n",
       "    }\n",
       "\n",
       "    .dataframe thead th {\n",
       "        text-align: right;\n",
       "    }\n",
       "</style>\n",
       "<table border=\"1\" class=\"dataframe\">\n",
       "  <thead>\n",
       "    <tr style=\"text-align: right;\">\n",
       "      <th></th>\n",
       "      <th>Time</th>\n",
       "      <th>Author ID</th>\n",
       "      <th>Tweet</th>\n",
       "    </tr>\n",
       "  </thead>\n",
       "  <tbody>\n",
       "  </tbody>\n",
       "</table>\n",
       "</div>"
      ],
      "text/plain": [
       "Empty DataFrame\n",
       "Columns: [Time, Author ID, Tweet]\n",
       "Index: []"
      ]
     },
     "execution_count": 10,
     "metadata": {},
     "output_type": "execute_result"
    }
   ],
   "source": [
    "df_3y[df_3y.duplicated()]"
   ]
  },
  {
   "cell_type": "code",
   "execution_count": 11,
   "id": "f2b457d4",
   "metadata": {},
   "outputs": [
    {
     "name": "stderr",
     "output_type": "stream",
     "text": [
      "/var/folders/qc/s8jdkyqj7zd15w9r6vrffpsm0000gn/T/ipykernel_2379/77451390.py:13: FutureWarning: The frame.append method is deprecated and will be removed from pandas in a future version. Use pandas.concat instead.\n",
      "  df_3y.head(5).append(df_3y.tail(5))\n"
     ]
    },
    {
     "data": {
      "text/html": [
       "<div>\n",
       "<style scoped>\n",
       "    .dataframe tbody tr th:only-of-type {\n",
       "        vertical-align: middle;\n",
       "    }\n",
       "\n",
       "    .dataframe tbody tr th {\n",
       "        vertical-align: top;\n",
       "    }\n",
       "\n",
       "    .dataframe thead th {\n",
       "        text-align: right;\n",
       "    }\n",
       "</style>\n",
       "<table border=\"1\" class=\"dataframe\">\n",
       "  <thead>\n",
       "    <tr style=\"text-align: right;\">\n",
       "      <th></th>\n",
       "      <th>Time</th>\n",
       "      <th>Author ID</th>\n",
       "      <th>Tweet</th>\n",
       "      <th>Year</th>\n",
       "      <th>Month</th>\n",
       "      <th>Weekday</th>\n",
       "    </tr>\n",
       "    <tr>\n",
       "      <th>Date</th>\n",
       "      <th></th>\n",
       "      <th></th>\n",
       "      <th></th>\n",
       "      <th></th>\n",
       "      <th></th>\n",
       "      <th></th>\n",
       "    </tr>\n",
       "  </thead>\n",
       "  <tbody>\n",
       "    <tr>\n",
       "      <th>2020-11-29</th>\n",
       "      <td>2020-11-29 17:31:54+00:00</td>\n",
       "      <td>138784917</td>\n",
       "      <td>RT because while I'm not gay this happens in S...</td>\n",
       "      <td>2020</td>\n",
       "      <td>11</td>\n",
       "      <td>6</td>\n",
       "    </tr>\n",
       "    <tr>\n",
       "      <th>2020-09-17</th>\n",
       "      <td>2020-09-17 15:30:33+00:00</td>\n",
       "      <td>752273484</td>\n",
       "      <td>RT @pauriahcarey: The homophobes over at We Ar...</td>\n",
       "      <td>2020</td>\n",
       "      <td>9</td>\n",
       "      <td>3</td>\n",
       "    </tr>\n",
       "    <tr>\n",
       "      <th>2020-09-17</th>\n",
       "      <td>2020-09-17 06:55:01+00:00</td>\n",
       "      <td>322378987</td>\n",
       "      <td>RT @pauriahcarey: The homophobes over at We Ar...</td>\n",
       "      <td>2020</td>\n",
       "      <td>9</td>\n",
       "      <td>3</td>\n",
       "    </tr>\n",
       "    <tr>\n",
       "      <th>2020-09-17</th>\n",
       "      <td>2020-09-17 00:54:36+00:00</td>\n",
       "      <td>2791195074</td>\n",
       "      <td>RT @pauriahcarey: The homophobes over at We Ar...</td>\n",
       "      <td>2020</td>\n",
       "      <td>9</td>\n",
       "      <td>3</td>\n",
       "    </tr>\n",
       "    <tr>\n",
       "      <th>2020-09-16</th>\n",
       "      <td>2020-09-16 22:42:13+00:00</td>\n",
       "      <td>96694094</td>\n",
       "      <td>RT @pauriahcarey: The homophobes over at We Ar...</td>\n",
       "      <td>2020</td>\n",
       "      <td>9</td>\n",
       "      <td>2</td>\n",
       "    </tr>\n",
       "    <tr>\n",
       "      <th>2022-02-28</th>\n",
       "      <td>2022-02-28 11:59:03+00:00</td>\n",
       "      <td>27987687</td>\n",
       "      <td>Singapore court refuses to overturn archaic ga...</td>\n",
       "      <td>2022</td>\n",
       "      <td>2</td>\n",
       "      <td>0</td>\n",
       "    </tr>\n",
       "    <tr>\n",
       "      <th>2022-02-28</th>\n",
       "      <td>2022-02-28 11:48:30+00:00</td>\n",
       "      <td>3158178364</td>\n",
       "      <td>RT @HumanDignityT: BREAKING: Partial victory a...</td>\n",
       "      <td>2022</td>\n",
       "      <td>2</td>\n",
       "      <td>0</td>\n",
       "    </tr>\n",
       "    <tr>\n",
       "      <th>2022-02-28</th>\n",
       "      <td>2022-02-28 11:32:08+00:00</td>\n",
       "      <td>23029296</td>\n",
       "      <td>RT @afa_singapore: AfA Singapore is deeply dis...</td>\n",
       "      <td>2022</td>\n",
       "      <td>2</td>\n",
       "      <td>0</td>\n",
       "    </tr>\n",
       "    <tr>\n",
       "      <th>2022-02-28</th>\n",
       "      <td>2022-02-28 11:31:03+00:00</td>\n",
       "      <td>881337963505868800</td>\n",
       "      <td>RT @kixes: The conclusion from #Singapore’s Co...</td>\n",
       "      <td>2022</td>\n",
       "      <td>2</td>\n",
       "      <td>0</td>\n",
       "    </tr>\n",
       "    <tr>\n",
       "      <th>2022-02-28</th>\n",
       "      <td>2022-02-28 11:27:03+00:00</td>\n",
       "      <td>16922687</td>\n",
       "      <td>RT @raynerkjtan: Today, the Singapore Court of...</td>\n",
       "      <td>2022</td>\n",
       "      <td>2</td>\n",
       "      <td>0</td>\n",
       "    </tr>\n",
       "  </tbody>\n",
       "</table>\n",
       "</div>"
      ],
      "text/plain": [
       "                                 Time           Author ID  \\\n",
       "Date                                                        \n",
       "2020-11-29  2020-11-29 17:31:54+00:00           138784917   \n",
       "2020-09-17  2020-09-17 15:30:33+00:00           752273484   \n",
       "2020-09-17  2020-09-17 06:55:01+00:00           322378987   \n",
       "2020-09-17  2020-09-17 00:54:36+00:00          2791195074   \n",
       "2020-09-16  2020-09-16 22:42:13+00:00            96694094   \n",
       "2022-02-28  2022-02-28 11:59:03+00:00            27987687   \n",
       "2022-02-28  2022-02-28 11:48:30+00:00          3158178364   \n",
       "2022-02-28  2022-02-28 11:32:08+00:00            23029296   \n",
       "2022-02-28  2022-02-28 11:31:03+00:00  881337963505868800   \n",
       "2022-02-28  2022-02-28 11:27:03+00:00            16922687   \n",
       "\n",
       "                                                        Tweet  Year  Month  \\\n",
       "Date                                                                         \n",
       "2020-11-29  RT because while I'm not gay this happens in S...  2020     11   \n",
       "2020-09-17  RT @pauriahcarey: The homophobes over at We Ar...  2020      9   \n",
       "2020-09-17  RT @pauriahcarey: The homophobes over at We Ar...  2020      9   \n",
       "2020-09-17  RT @pauriahcarey: The homophobes over at We Ar...  2020      9   \n",
       "2020-09-16  RT @pauriahcarey: The homophobes over at We Ar...  2020      9   \n",
       "2022-02-28  Singapore court refuses to overturn archaic ga...  2022      2   \n",
       "2022-02-28  RT @HumanDignityT: BREAKING: Partial victory a...  2022      2   \n",
       "2022-02-28  RT @afa_singapore: AfA Singapore is deeply dis...  2022      2   \n",
       "2022-02-28  RT @kixes: The conclusion from #Singapore’s Co...  2022      2   \n",
       "2022-02-28  RT @raynerkjtan: Today, the Singapore Court of...  2022      2   \n",
       "\n",
       "            Weekday  \n",
       "Date                 \n",
       "2020-11-29        6  \n",
       "2020-09-17        3  \n",
       "2020-09-17        3  \n",
       "2020-09-17        3  \n",
       "2020-09-16        2  \n",
       "2022-02-28        0  \n",
       "2022-02-28        0  \n",
       "2022-02-28        0  \n",
       "2022-02-28        0  \n",
       "2022-02-28        0  "
      ]
     },
     "execution_count": 11,
     "metadata": {},
     "output_type": "execute_result"
    }
   ],
   "source": [
    "df_3y['Date'] = df_3y['Time'].map(lambda x:x.split(' ')[0])\n",
    "#df_3y['Time_1'] = df_3y['Time'].map(lambda x:x.split(' ')[1])\n",
    "\n",
    "df_3y['Date'] = pd.to_datetime(df_3y['Date'])\n",
    "\n",
    "df_3y.set_index('Date',inplace=True)\n",
    "\n",
    "df_3y['Year'] = df_3y.index.year\n",
    "df_3y['Month'] = df_3y.index.month\n",
    "df_3y['Weekday'] = df_3y.index.weekday\n",
    "\n",
    "\n",
    "df_3y.head(5).append(df_3y.tail(5))"
   ]
  },
  {
   "cell_type": "code",
   "execution_count": 12,
   "id": "58a79e51",
   "metadata": {},
   "outputs": [],
   "source": [
    "# clean the news content by using clean method from hero package\n",
    "import texthero as hero"
   ]
  },
  {
   "cell_type": "code",
   "execution_count": 13,
   "id": "6270bfc5",
   "metadata": {},
   "outputs": [],
   "source": [
    "#create custom pipeline\n",
    "custom_pipeline = [hero.preprocessing.fillna,\n",
    "                   hero.preprocessing.lowercase,\n",
    "                   hero.preprocessing.remove_whitespace,\n",
    "                   hero.preprocessing.remove_urls,\n",
    "                   hero.preprocessing.remove_stopwords,\n",
    "                   hero.preprocessing.remove_punctuation,\n",
    "                   hero.preprocessing.remove_diacritics,\n",
    "                   hero.preprocessing.remove_digits\n",
    "                   ]\n",
    "\n",
    "df_3y['clean_Tweet'] = df_3y['Tweet'].pipe(hero.clean, custom_pipeline)"
   ]
  },
  {
   "cell_type": "code",
   "execution_count": 14,
   "id": "ef56b1be",
   "metadata": {
    "scrolled": true
   },
   "outputs": [
    {
     "name": "stderr",
     "output_type": "stream",
     "text": [
      "/var/folders/qc/s8jdkyqj7zd15w9r6vrffpsm0000gn/T/ipykernel_2379/2228596155.py:1: FutureWarning: The frame.append method is deprecated and will be removed from pandas in a future version. Use pandas.concat instead.\n",
      "  df_3y.head(3).append(df_3y.tail(3))\n"
     ]
    },
    {
     "data": {
      "text/html": [
       "<div>\n",
       "<style scoped>\n",
       "    .dataframe tbody tr th:only-of-type {\n",
       "        vertical-align: middle;\n",
       "    }\n",
       "\n",
       "    .dataframe tbody tr th {\n",
       "        vertical-align: top;\n",
       "    }\n",
       "\n",
       "    .dataframe thead th {\n",
       "        text-align: right;\n",
       "    }\n",
       "</style>\n",
       "<table border=\"1\" class=\"dataframe\">\n",
       "  <thead>\n",
       "    <tr style=\"text-align: right;\">\n",
       "      <th></th>\n",
       "      <th>Time</th>\n",
       "      <th>Author ID</th>\n",
       "      <th>Tweet</th>\n",
       "      <th>Year</th>\n",
       "      <th>Month</th>\n",
       "      <th>Weekday</th>\n",
       "      <th>clean_Tweet</th>\n",
       "    </tr>\n",
       "    <tr>\n",
       "      <th>Date</th>\n",
       "      <th></th>\n",
       "      <th></th>\n",
       "      <th></th>\n",
       "      <th></th>\n",
       "      <th></th>\n",
       "      <th></th>\n",
       "      <th></th>\n",
       "    </tr>\n",
       "  </thead>\n",
       "  <tbody>\n",
       "    <tr>\n",
       "      <th>2020-11-29</th>\n",
       "      <td>2020-11-29 17:31:54+00:00</td>\n",
       "      <td>138784917</td>\n",
       "      <td>RT because while I'm not gay this happens in S...</td>\n",
       "      <td>2020</td>\n",
       "      <td>11</td>\n",
       "      <td>6</td>\n",
       "      <td>rt      gay  happens  singapore   gay communit...</td>\n",
       "    </tr>\n",
       "    <tr>\n",
       "      <th>2020-09-17</th>\n",
       "      <td>2020-09-17 15:30:33+00:00</td>\n",
       "      <td>752273484</td>\n",
       "      <td>RT @pauriahcarey: The homophobes over at We Ar...</td>\n",
       "      <td>2020</td>\n",
       "      <td>9</td>\n",
       "      <td>3</td>\n",
       "      <td>rt  pauriahcarey   homophobes      pinkdot  si...</td>\n",
       "    </tr>\n",
       "    <tr>\n",
       "      <th>2020-09-17</th>\n",
       "      <td>2020-09-17 06:55:01+00:00</td>\n",
       "      <td>322378987</td>\n",
       "      <td>RT @pauriahcarey: The homophobes over at We Ar...</td>\n",
       "      <td>2020</td>\n",
       "      <td>9</td>\n",
       "      <td>3</td>\n",
       "      <td>rt  pauriahcarey   homophobes      pinkdot  si...</td>\n",
       "    </tr>\n",
       "    <tr>\n",
       "      <th>2022-02-28</th>\n",
       "      <td>2022-02-28 11:32:08+00:00</td>\n",
       "      <td>23029296</td>\n",
       "      <td>RT @afa_singapore: AfA Singapore is deeply dis...</td>\n",
       "      <td>2022</td>\n",
       "      <td>2</td>\n",
       "      <td>0</td>\n",
       "      <td>rt  afa singapore  afa singapore  deeply disap...</td>\n",
       "    </tr>\n",
       "    <tr>\n",
       "      <th>2022-02-28</th>\n",
       "      <td>2022-02-28 11:31:03+00:00</td>\n",
       "      <td>881337963505868800</td>\n",
       "      <td>RT @kixes: The conclusion from #Singapore’s Co...</td>\n",
       "      <td>2022</td>\n",
       "      <td>2</td>\n",
       "      <td>0</td>\n",
       "      <td>rt  kixes   conclusion   singapore court  appe...</td>\n",
       "    </tr>\n",
       "    <tr>\n",
       "      <th>2022-02-28</th>\n",
       "      <td>2022-02-28 11:27:03+00:00</td>\n",
       "      <td>16922687</td>\n",
       "      <td>RT @raynerkjtan: Today, the Singapore Court of...</td>\n",
       "      <td>2022</td>\n",
       "      <td>2</td>\n",
       "      <td>0</td>\n",
       "      <td>rt  raynerkjtan  today   singapore court  appe...</td>\n",
       "    </tr>\n",
       "  </tbody>\n",
       "</table>\n",
       "</div>"
      ],
      "text/plain": [
       "                                 Time           Author ID  \\\n",
       "Date                                                        \n",
       "2020-11-29  2020-11-29 17:31:54+00:00           138784917   \n",
       "2020-09-17  2020-09-17 15:30:33+00:00           752273484   \n",
       "2020-09-17  2020-09-17 06:55:01+00:00           322378987   \n",
       "2022-02-28  2022-02-28 11:32:08+00:00            23029296   \n",
       "2022-02-28  2022-02-28 11:31:03+00:00  881337963505868800   \n",
       "2022-02-28  2022-02-28 11:27:03+00:00            16922687   \n",
       "\n",
       "                                                        Tweet  Year  Month  \\\n",
       "Date                                                                         \n",
       "2020-11-29  RT because while I'm not gay this happens in S...  2020     11   \n",
       "2020-09-17  RT @pauriahcarey: The homophobes over at We Ar...  2020      9   \n",
       "2020-09-17  RT @pauriahcarey: The homophobes over at We Ar...  2020      9   \n",
       "2022-02-28  RT @afa_singapore: AfA Singapore is deeply dis...  2022      2   \n",
       "2022-02-28  RT @kixes: The conclusion from #Singapore’s Co...  2022      2   \n",
       "2022-02-28  RT @raynerkjtan: Today, the Singapore Court of...  2022      2   \n",
       "\n",
       "            Weekday                                        clean_Tweet  \n",
       "Date                                                                    \n",
       "2020-11-29        6  rt      gay  happens  singapore   gay communit...  \n",
       "2020-09-17        3  rt  pauriahcarey   homophobes      pinkdot  si...  \n",
       "2020-09-17        3  rt  pauriahcarey   homophobes      pinkdot  si...  \n",
       "2022-02-28        0  rt  afa singapore  afa singapore  deeply disap...  \n",
       "2022-02-28        0  rt  kixes   conclusion   singapore court  appe...  \n",
       "2022-02-28        0  rt  raynerkjtan  today   singapore court  appe...  "
      ]
     },
     "execution_count": 14,
     "metadata": {},
     "output_type": "execute_result"
    }
   ],
   "source": [
    "df_3y.head(3).append(df_3y.tail(3))"
   ]
  },
  {
   "cell_type": "code",
   "execution_count": 15,
   "id": "05059774",
   "metadata": {},
   "outputs": [
    {
     "data": {
      "text/html": [
       "<div>\n",
       "<style scoped>\n",
       "    .dataframe tbody tr th:only-of-type {\n",
       "        vertical-align: middle;\n",
       "    }\n",
       "\n",
       "    .dataframe tbody tr th {\n",
       "        vertical-align: top;\n",
       "    }\n",
       "\n",
       "    .dataframe thead th {\n",
       "        text-align: right;\n",
       "    }\n",
       "</style>\n",
       "<table border=\"1\" class=\"dataframe\">\n",
       "  <thead>\n",
       "    <tr style=\"text-align: right;\">\n",
       "      <th></th>\n",
       "      <th>Tweet Number</th>\n",
       "    </tr>\n",
       "  </thead>\n",
       "  <tbody>\n",
       "    <tr>\n",
       "      <th>2020-01-01</th>\n",
       "      <td>9</td>\n",
       "    </tr>\n",
       "    <tr>\n",
       "      <th>2020-01-02</th>\n",
       "      <td>7</td>\n",
       "    </tr>\n",
       "    <tr>\n",
       "      <th>2020-01-03</th>\n",
       "      <td>10</td>\n",
       "    </tr>\n",
       "    <tr>\n",
       "      <th>2020-01-04</th>\n",
       "      <td>1</td>\n",
       "    </tr>\n",
       "    <tr>\n",
       "      <th>2020-01-05</th>\n",
       "      <td>1</td>\n",
       "    </tr>\n",
       "    <tr>\n",
       "      <th>...</th>\n",
       "      <td>...</td>\n",
       "    </tr>\n",
       "    <tr>\n",
       "      <th>2022-03-28</th>\n",
       "      <td>31</td>\n",
       "    </tr>\n",
       "    <tr>\n",
       "      <th>2022-03-29</th>\n",
       "      <td>22</td>\n",
       "    </tr>\n",
       "    <tr>\n",
       "      <th>2022-03-30</th>\n",
       "      <td>19</td>\n",
       "    </tr>\n",
       "    <tr>\n",
       "      <th>2022-03-31</th>\n",
       "      <td>19</td>\n",
       "    </tr>\n",
       "    <tr>\n",
       "      <th>2022-04-01</th>\n",
       "      <td>17</td>\n",
       "    </tr>\n",
       "  </tbody>\n",
       "</table>\n",
       "<p>545 rows × 1 columns</p>\n",
       "</div>"
      ],
      "text/plain": [
       "            Tweet Number\n",
       "2020-01-01             9\n",
       "2020-01-02             7\n",
       "2020-01-03            10\n",
       "2020-01-04             1\n",
       "2020-01-05             1\n",
       "...                  ...\n",
       "2022-03-28            31\n",
       "2022-03-29            22\n",
       "2022-03-30            19\n",
       "2022-03-31            19\n",
       "2022-04-01            17\n",
       "\n",
       "[545 rows x 1 columns]"
      ]
     },
     "execution_count": 15,
     "metadata": {},
     "output_type": "execute_result"
    }
   ],
   "source": [
    "df_pre = pd.DataFrame(df_3y.index.value_counts().sort_index()).rename(columns={'Date':'Tweet Number'})\n",
    "#lr_data_pre.rename(columns={'Date':'Tweet Number'})\n",
    "df_pre"
   ]
  },
  {
   "cell_type": "markdown",
   "id": "07576bb1",
   "metadata": {},
   "source": [
    "# Plot for linear regression without covid-19"
   ]
  },
  {
   "cell_type": "markdown",
   "id": "bcd34366",
   "metadata": {},
   "source": [
    "### Re-specify the range for training, testing and validation period"
   ]
  },
  {
   "cell_type": "code",
   "execution_count": 37,
   "id": "99e61432",
   "metadata": {},
   "outputs": [],
   "source": [
    "# Specify the range for training, testing and validation period\n",
    "valid_start = '2020-10-01'\n",
    "test_start =  '2021-07-01'"
   ]
  },
  {
   "cell_type": "code",
   "execution_count": 38,
   "id": "ae22ae0f",
   "metadata": {},
   "outputs": [
    {
     "data": {
      "image/png": "[encoded data removed]",
      "text/plain": [
       "<Figure size 864x360 with 1 Axes>"
      ]
     },
     "metadata": {
      "needs_background": "light"
     },
     "output_type": "display_data"
    }
   ],
   "source": [
    "df_pre[: valid_start][['Tweet Number']].rename(columns={'Tweet Number':'train'}) \\\n",
    "    .join(df_pre[valid_start: test_start][['Tweet Number']] \\\n",
    "          .rename(columns={'Tweet Number':'validation'}), how='outer') \\\n",
    "    .join(df_pre[test_start:][['Tweet Number']].rename(columns={'Tweet Number':'test'}), how='outer') \\\n",
    "    .plot(y=['train', 'validation', 'test'], figsize=(12, 5), fontsize=12)\n",
    "plt.xlabel('Time', fontsize=12)\n",
    "plt.ylabel('Number of Tweets', fontsize=12)\n",
    "plt.show()"
   ]
  },
  {
   "cell_type": "code",
   "execution_count": 39,
   "id": "f417ba9b",
   "metadata": {},
   "outputs": [],
   "source": [
    "K = 5\n",
    "HORIZON = 1"
   ]
  },
  {
   "cell_type": "code",
   "execution_count": 40,
   "id": "ba98f2bb",
   "metadata": {},
   "outputs": [],
   "source": [
    "# filter the dataset to include the training period to prevent data leakage\n",
    "train_df = df_pre[:valid_start].copy()"
   ]
  },
  {
   "cell_type": "code",
   "execution_count": 41,
   "id": "75759295",
   "metadata": {},
   "outputs": [
    {
     "name": "stdout",
     "output_type": "stream",
     "text": [
      "            Tweet Number\n",
      "2020-01-01      0.061069\n",
      "2020-01-02      0.045802\n",
      "2022-03-31      0.137405\n",
      "2022-04-01      0.122137\n"
     ]
    },
    {
     "name": "stderr",
     "output_type": "stream",
     "text": [
      "/var/folders/qc/s8jdkyqj7zd15w9r6vrffpsm0000gn/T/ipykernel_2379/923400763.py:7: FutureWarning: The frame.append method is deprecated and will be removed from pandas in a future version. Use pandas.concat instead.\n",
      "  print(df_pre.head(2).append(df_pre.tail(2)))\n"
     ]
    },
    {
     "data": {
      "image/png": "[encoded data removed]",
      "text/plain": [
       "<Figure size 432x288 with 1 Axes>"
      ]
     },
     "metadata": {
      "needs_background": "light"
     },
     "output_type": "display_data"
    }
   ],
   "source": [
    "# Scale the time series into the range (0, 1)\n",
    "from sklearn.preprocessing import MinMaxScaler #to convert values into 0 & 1 for comparing\n",
    "scaler = MinMaxScaler()\n",
    "df_pre[['Tweet Number']].rename(columns={'Tweet Number':'Before Scaling'}).plot.hist(bins=10, fontsize=12)\n",
    "\n",
    "df_pre['Tweet Number'] = scaler.fit_transform(df_pre)  #fit_transform =! transform\n",
    "print(df_pre.head(2).append(df_pre.tail(2))) "
   ]
  },
  {
   "cell_type": "code",
   "execution_count": 42,
   "id": "9ee7c1fd",
   "metadata": {},
   "outputs": [
    {
     "data": {
      "image/png": "[encoded data removed]",
      "text/plain": [
       "<Figure size 432x288 with 1 Axes>"
      ]
     },
     "metadata": {
      "needs_background": "light"
     },
     "output_type": "display_data"
    }
   ],
   "source": [
    "df_pre.rename(columns={'Tweet Number':'After Scaling'}).plot.hist(bins=10, fontsize=12)\n",
    "plt.show()"
   ]
  },
  {
   "cell_type": "code",
   "execution_count": 43,
   "id": "567cdb0d",
   "metadata": {},
   "outputs": [
    {
     "data": {
      "text/html": [
       "<div>\n",
       "<style scoped>\n",
       "    .dataframe tbody tr th:only-of-type {\n",
       "        vertical-align: middle;\n",
       "    }\n",
       "\n",
       "    .dataframe tbody tr th {\n",
       "        vertical-align: top;\n",
       "    }\n",
       "\n",
       "    .dataframe thead th {\n",
       "        text-align: right;\n",
       "    }\n",
       "</style>\n",
       "<table border=\"1\" class=\"dataframe\">\n",
       "  <thead>\n",
       "    <tr style=\"text-align: right;\">\n",
       "      <th></th>\n",
       "      <th>Tweet Number</th>\n",
       "      <th>Tweet Number_t+1</th>\n",
       "    </tr>\n",
       "  </thead>\n",
       "  <tbody>\n",
       "    <tr>\n",
       "      <th>2020-01-01</th>\n",
       "      <td>0.061069</td>\n",
       "      <td>0.045802</td>\n",
       "    </tr>\n",
       "    <tr>\n",
       "      <th>2020-01-02</th>\n",
       "      <td>0.045802</td>\n",
       "      <td>0.068702</td>\n",
       "    </tr>\n",
       "    <tr>\n",
       "      <th>2020-01-03</th>\n",
       "      <td>0.068702</td>\n",
       "      <td>0.000000</td>\n",
       "    </tr>\n",
       "    <tr>\n",
       "      <th>2020-01-04</th>\n",
       "      <td>0.000000</td>\n",
       "      <td>0.000000</td>\n",
       "    </tr>\n",
       "    <tr>\n",
       "      <th>2020-01-05</th>\n",
       "      <td>0.000000</td>\n",
       "      <td>0.022901</td>\n",
       "    </tr>\n",
       "  </tbody>\n",
       "</table>\n",
       "</div>"
      ],
      "text/plain": [
       "            Tweet Number  Tweet Number_t+1\n",
       "2020-01-01      0.061069          0.045802\n",
       "2020-01-02      0.045802          0.068702\n",
       "2020-01-03      0.068702          0.000000\n",
       "2020-01-04      0.000000          0.000000\n",
       "2020-01-05      0.000000          0.022901"
      ]
     },
     "execution_count": 43,
     "metadata": {},
     "output_type": "execute_result"
    }
   ],
   "source": [
    "# Based on K and H, we shift the tweet number to create the dataframe containing features x and targets y\n",
    "train_shifted = df_pre.copy()\n",
    "# Target Y Column: Close_t+1\n",
    "train_shifted['Tweet Number_t+1'] = df_pre['Tweet Number'].shift(-1)\n",
    "train_shifted.head(5)"
   ]
  },
  {
   "cell_type": "code",
   "execution_count": 44,
   "id": "475128e5",
   "metadata": {},
   "outputs": [],
   "source": [
    "for t in range(K):\n",
    "    train_shifted['Tweet Number_t-{}'.format(t)] = train_shifted['Tweet Number'].shift(t)"
   ]
  },
  {
   "cell_type": "code",
   "execution_count": 45,
   "id": "f89f3061",
   "metadata": {},
   "outputs": [
    {
     "data": {
      "text/html": [
       "<div>\n",
       "<style scoped>\n",
       "    .dataframe tbody tr th:only-of-type {\n",
       "        vertical-align: middle;\n",
       "    }\n",
       "\n",
       "    .dataframe tbody tr th {\n",
       "        vertical-align: top;\n",
       "    }\n",
       "\n",
       "    .dataframe thead th {\n",
       "        text-align: right;\n",
       "    }\n",
       "</style>\n",
       "<table border=\"1\" class=\"dataframe\">\n",
       "  <thead>\n",
       "    <tr style=\"text-align: right;\">\n",
       "      <th></th>\n",
       "      <th>Tweet Number</th>\n",
       "      <th>Tweet Number_t+1</th>\n",
       "      <th>Tweet Number_t-0</th>\n",
       "      <th>Tweet Number_t-1</th>\n",
       "      <th>Tweet Number_t-2</th>\n",
       "      <th>Tweet Number_t-3</th>\n",
       "      <th>Tweet Number_t-4</th>\n",
       "    </tr>\n",
       "  </thead>\n",
       "  <tbody>\n",
       "    <tr>\n",
       "      <th>2020-01-05</th>\n",
       "      <td>0.000000</td>\n",
       "      <td>0.022901</td>\n",
       "      <td>0.000000</td>\n",
       "      <td>0.000000</td>\n",
       "      <td>0.068702</td>\n",
       "      <td>0.045802</td>\n",
       "      <td>0.061069</td>\n",
       "    </tr>\n",
       "    <tr>\n",
       "      <th>2020-01-06</th>\n",
       "      <td>0.022901</td>\n",
       "      <td>0.015267</td>\n",
       "      <td>0.022901</td>\n",
       "      <td>0.000000</td>\n",
       "      <td>0.000000</td>\n",
       "      <td>0.068702</td>\n",
       "      <td>0.045802</td>\n",
       "    </tr>\n",
       "    <tr>\n",
       "      <th>2020-01-07</th>\n",
       "      <td>0.015267</td>\n",
       "      <td>0.015267</td>\n",
       "      <td>0.015267</td>\n",
       "      <td>0.022901</td>\n",
       "      <td>0.000000</td>\n",
       "      <td>0.000000</td>\n",
       "      <td>0.068702</td>\n",
       "    </tr>\n",
       "    <tr>\n",
       "      <th>2020-01-08</th>\n",
       "      <td>0.015267</td>\n",
       "      <td>0.015267</td>\n",
       "      <td>0.015267</td>\n",
       "      <td>0.015267</td>\n",
       "      <td>0.022901</td>\n",
       "      <td>0.000000</td>\n",
       "      <td>0.000000</td>\n",
       "    </tr>\n",
       "    <tr>\n",
       "      <th>2020-01-09</th>\n",
       "      <td>0.015267</td>\n",
       "      <td>0.000000</td>\n",
       "      <td>0.015267</td>\n",
       "      <td>0.015267</td>\n",
       "      <td>0.015267</td>\n",
       "      <td>0.022901</td>\n",
       "      <td>0.000000</td>\n",
       "    </tr>\n",
       "  </tbody>\n",
       "</table>\n",
       "</div>"
      ],
      "text/plain": [
       "            Tweet Number  Tweet Number_t+1  Tweet Number_t-0  \\\n",
       "2020-01-05      0.000000          0.022901          0.000000   \n",
       "2020-01-06      0.022901          0.015267          0.022901   \n",
       "2020-01-07      0.015267          0.015267          0.015267   \n",
       "2020-01-08      0.015267          0.015267          0.015267   \n",
       "2020-01-09      0.015267          0.000000          0.015267   \n",
       "\n",
       "            Tweet Number_t-1  Tweet Number_t-2  Tweet Number_t-3  \\\n",
       "2020-01-05          0.000000          0.068702          0.045802   \n",
       "2020-01-06          0.000000          0.000000          0.068702   \n",
       "2020-01-07          0.022901          0.000000          0.000000   \n",
       "2020-01-08          0.015267          0.022901          0.000000   \n",
       "2020-01-09          0.015267          0.015267          0.022901   \n",
       "\n",
       "            Tweet Number_t-4  \n",
       "2020-01-05          0.061069  \n",
       "2020-01-06          0.045802  \n",
       "2020-01-07          0.068702  \n",
       "2020-01-08          0.000000  \n",
       "2020-01-09          0.000000  "
      ]
     },
     "execution_count": 45,
     "metadata": {},
     "output_type": "execute_result"
    }
   ],
   "source": [
    "train_shifted = train_shifted.dropna(how='any')\n",
    "train_shifted.head(5)"
   ]
  },
  {
   "cell_type": "code",
   "execution_count": 46,
   "id": "558f273c",
   "metadata": {},
   "outputs": [],
   "source": [
    "y_col = ['Tweet Number_t+1']\n",
    "X_cols = ['Tweet Number_t-{}'.format(idx) for idx in range(0, K)]"
   ]
  },
  {
   "cell_type": "code",
   "execution_count": 47,
   "id": "5a0477cb",
   "metadata": {},
   "outputs": [
    {
     "name": "stdout",
     "output_type": "stream",
     "text": [
      "(540, 1)\n",
      "(540, 5)\n"
     ]
    }
   ],
   "source": [
    "# Transform into a numpy arrays\n",
    "y_train = train_shifted[y_col].values\n",
    "print(y_train.shape)  \n",
    "X_train = train_shifted[X_cols].values\n",
    "print(X_train.shape)"
   ]
  },
  {
   "cell_type": "code",
   "execution_count": 48,
   "id": "2c4be393",
   "metadata": {},
   "outputs": [],
   "source": [
    "from sklearn.linear_model import LinearRegression "
   ]
  },
  {
   "cell_type": "code",
   "execution_count": 49,
   "id": "5932beb7",
   "metadata": {},
   "outputs": [
    {
     "data": {
      "text/plain": [
       "LinearRegression(copy_X=True, fit_intercept=True, n_jobs=None, normalize=False)"
      ]
     },
     "execution_count": 49,
     "metadata": {},
     "output_type": "execute_result"
    }
   ],
   "source": [
    "model = LinearRegression()\n",
    "model.fit(X_train, y_train)"
   ]
  },
  {
   "cell_type": "code",
   "execution_count": 50,
   "id": "174c2db5",
   "metadata": {},
   "outputs": [],
   "source": [
    "index_pre = df_pre.index.get_loc(valid_start) - K\n",
    "true_valid_start = df_pre.index[index_pre]"
   ]
  },
  {
   "cell_type": "code",
   "execution_count": 51,
   "id": "cd79d812",
   "metadata": {},
   "outputs": [
    {
     "data": {
      "text/html": [
       "<div>\n",
       "<style scoped>\n",
       "    .dataframe tbody tr th:only-of-type {\n",
       "        vertical-align: middle;\n",
       "    }\n",
       "\n",
       "    .dataframe tbody tr th {\n",
       "        vertical-align: top;\n",
       "    }\n",
       "\n",
       "    .dataframe thead th {\n",
       "        text-align: right;\n",
       "    }\n",
       "</style>\n",
       "<table border=\"1\" class=\"dataframe\">\n",
       "  <thead>\n",
       "    <tr style=\"text-align: right;\">\n",
       "      <th></th>\n",
       "      <th>Tweet Number</th>\n",
       "    </tr>\n",
       "  </thead>\n",
       "  <tbody>\n",
       "    <tr>\n",
       "      <th>2020-09-26</th>\n",
       "      <td>0.022901</td>\n",
       "    </tr>\n",
       "    <tr>\n",
       "      <th>2020-09-27</th>\n",
       "      <td>0.122137</td>\n",
       "    </tr>\n",
       "    <tr>\n",
       "      <th>2020-09-28</th>\n",
       "      <td>0.091603</td>\n",
       "    </tr>\n",
       "    <tr>\n",
       "      <th>2020-09-29</th>\n",
       "      <td>0.053435</td>\n",
       "    </tr>\n",
       "    <tr>\n",
       "      <th>2020-09-30</th>\n",
       "      <td>0.022901</td>\n",
       "    </tr>\n",
       "  </tbody>\n",
       "</table>\n",
       "</div>"
      ],
      "text/plain": [
       "            Tweet Number\n",
       "2020-09-26      0.022901\n",
       "2020-09-27      0.122137\n",
       "2020-09-28      0.091603\n",
       "2020-09-29      0.053435\n",
       "2020-09-30      0.022901"
      ]
     },
     "execution_count": 51,
     "metadata": {},
     "output_type": "execute_result"
    }
   ],
   "source": [
    "val_df = df_pre[true_valid_start:test_start].copy()\n",
    "val_df.head()"
   ]
  },
  {
   "cell_type": "code",
   "execution_count": 52,
   "id": "9f371486",
   "metadata": {},
   "outputs": [
    {
     "name": "stdout",
     "output_type": "stream",
     "text": [
      "            Tweet Number\n",
      "2020-09-26      0.022901\n",
      "2020-09-27      0.122137\n",
      "2021-06-30      0.000000\n",
      "2021-07-01      0.000000\n"
     ]
    },
    {
     "name": "stderr",
     "output_type": "stream",
     "text": [
      "/var/folders/qc/s8jdkyqj7zd15w9r6vrffpsm0000gn/T/ipykernel_2379/247420434.py:2: FutureWarning: The frame.append method is deprecated and will be removed from pandas in a future version. Use pandas.concat instead.\n",
      "  print(val_df.head(2).append(val_df.tail(2)))\n"
     ]
    }
   ],
   "source": [
    "val_df['Tweet Number'] = scaler.transform(val_df)  #dont need to fit again, using previous model\n",
    "print(val_df.head(2).append(val_df.tail(2)))"
   ]
  },
  {
   "cell_type": "code",
   "execution_count": 53,
   "id": "4fd0ede6",
   "metadata": {},
   "outputs": [],
   "source": [
    "valid_shifted = val_df.copy()\n",
    "valid_shifted['Tweet Number_t+1'] = val_df['Tweet Number'].shift(-1)\n",
    "for t in range(K):\n",
    "     valid_shifted['Tweet Number_t-{}'.format(t)] = valid_shifted['Tweet Number'].shift(t)\n",
    "valid_shifted = valid_shifted.dropna(how='any')\n",
    "y_valid = valid_shifted[y_col].values\n",
    "X_valid = valid_shifted[X_cols].values"
   ]
  },
  {
   "cell_type": "code",
   "execution_count": 54,
   "id": "1cec71b7",
   "metadata": {},
   "outputs": [
    {
     "data": {
      "text/html": [
       "<div>\n",
       "<style scoped>\n",
       "    .dataframe tbody tr th:only-of-type {\n",
       "        vertical-align: middle;\n",
       "    }\n",
       "\n",
       "    .dataframe tbody tr th {\n",
       "        vertical-align: top;\n",
       "    }\n",
       "\n",
       "    .dataframe thead th {\n",
       "        text-align: right;\n",
       "    }\n",
       "</style>\n",
       "<table border=\"1\" class=\"dataframe\">\n",
       "  <thead>\n",
       "    <tr style=\"text-align: right;\">\n",
       "      <th></th>\n",
       "      <th>timestamp</th>\n",
       "      <th>h</th>\n",
       "      <th>prediction</th>\n",
       "      <th>actual</th>\n",
       "    </tr>\n",
       "  </thead>\n",
       "  <tbody>\n",
       "    <tr>\n",
       "      <th>0</th>\n",
       "      <td>2020-09-30</td>\n",
       "      <td>t+1</td>\n",
       "      <td>0.038692</td>\n",
       "      <td>0.000000</td>\n",
       "    </tr>\n",
       "    <tr>\n",
       "      <th>1</th>\n",
       "      <td>2020-10-01</td>\n",
       "      <td>t+1</td>\n",
       "      <td>0.029176</td>\n",
       "      <td>0.175573</td>\n",
       "    </tr>\n",
       "    <tr>\n",
       "      <th>2</th>\n",
       "      <td>2020-10-02</td>\n",
       "      <td>t+1</td>\n",
       "      <td>0.108962</td>\n",
       "      <td>0.000000</td>\n",
       "    </tr>\n",
       "    <tr>\n",
       "      <th>3</th>\n",
       "      <td>2020-10-03</td>\n",
       "      <td>t+1</td>\n",
       "      <td>0.035022</td>\n",
       "      <td>0.015267</td>\n",
       "    </tr>\n",
       "    <tr>\n",
       "      <th>4</th>\n",
       "      <td>2020-10-04</td>\n",
       "      <td>t+1</td>\n",
       "      <td>0.028407</td>\n",
       "      <td>0.000000</td>\n",
       "    </tr>\n",
       "  </tbody>\n",
       "</table>\n",
       "</div>"
      ],
      "text/plain": [
       "   timestamp    h  prediction    actual\n",
       "0 2020-09-30  t+1    0.038692  0.000000\n",
       "1 2020-10-01  t+1    0.029176  0.175573\n",
       "2 2020-10-02  t+1    0.108962  0.000000\n",
       "3 2020-10-03  t+1    0.035022  0.015267\n",
       "4 2020-10-04  t+1    0.028407  0.000000"
      ]
     },
     "execution_count": 54,
     "metadata": {},
     "output_type": "execute_result"
    }
   ],
   "source": [
    "predictions = model.predict(X_valid)\n",
    "eval_df = pd.DataFrame(predictions, columns=['t+'+str(t) for t in range(1, HORIZON+1)])\n",
    "eval_df['timestamp'] = valid_shifted.index\n",
    "eval_df = pd.melt(eval_df, id_vars='timestamp', value_name='prediction', var_name='h')\n",
    "eval_df['actual'] = np.transpose(y_valid).ravel()\n",
    "eval_df[['prediction', 'actual']] = scaler.inverse_transform(eval_df[['prediction', 'actual']]) #convert values into real values \n",
    "eval_df.head()"
   ]
  },
  {
   "cell_type": "markdown",
   "id": "cd536e4d",
   "metadata": {},
   "source": [
    "# Explain the similarity between prediction trend and actual trend"
   ]
  },
  {
   "cell_type": "code",
   "execution_count": 55,
   "id": "c44d1217",
   "metadata": {},
   "outputs": [
    {
     "data": {
      "image/png": "[encoded data removed]",
      "text/plain": [
       "<Figure size 1080x576 with 1 Axes>"
      ]
     },
     "metadata": {
      "needs_background": "light"
     },
     "output_type": "display_data"
    }
   ],
   "source": [
    "eval_df.plot(x='timestamp', y=['prediction', 'actual'], style=['r', 'b'], figsize=(15, 8))\n",
    "plt.xlabel('timestamp', fontsize=12)\n",
    "plt.ylabel('load', fontsize=12)\n",
    "plt.show()"
   ]
  },
  {
   "cell_type": "code",
   "execution_count": 56,
   "id": "2fd2cc6a",
   "metadata": {},
   "outputs": [
    {
     "name": "stdout",
     "output_type": "stream",
     "text": [
      "MAPE is inf\n"
     ]
    }
   ],
   "source": [
    "# Calculate MAPE (mean average percentage error)\n",
    "mape_test = np.mean(np.abs((eval_df['prediction'] - eval_df['actual']) / eval_df['actual'])) * 100\n",
    "print('MAPE is %0.2f' %  mape_test)  "
   ]
  },
  {
   "cell_type": "code",
   "execution_count": null,
   "id": "c58cd7fd",
   "metadata": {},
   "outputs": [],
   "source": []
  }
 ],
 "metadata": {
  "kernelspec": {
   "display_name": "Python 3 (ipykernel)",
   "language": "python",
   "name": "python3"
  },
  "language_info": {
   "codemirror_mode": {
    "name": "ipython",
    "version": 3
   },
   "file_extension": ".py",
   "mimetype": "text/x-python",
   "name": "python",
   "nbconvert_exporter": "python",
   "pygments_lexer": "ipython3",
   "version": "3.8.8"
  }
 },
 "nbformat": 4,
 "nbformat_minor": 5
}
